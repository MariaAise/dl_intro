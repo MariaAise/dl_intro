{
 "cells": [
  {
   "cell_type": "markdown",
   "id": "7534ff96",
   "metadata": {},
   "source": [
    " #Using Flickr8k dataset for Image Captioning Task\n",
    "\n",
    "**Dataset Source**: [Flickr8k Dataset](http://shannon.cs.illinois.edu/DenotationGraph/) or [Kaggle Link](https://www.kaggle.com/datasets/adityajn105/flickr8k) or [Hugging Face Link](https://huggingface.co/datasets/flickr8k)\n",
    "\n",
    " \n",
    "\n",
    "## Dataset Overview:\n",
    "   - Introduce the Flickr8k dataset: 8,000 images with 5 human-annotated captions each.\n",
    "   - Show examples of images and their corresponding captions (e.g., a photo of a dog with captions like \"A brown dog is playing in the grass\").\n",
    "   - Highlight diversity: various scenes (people, animals, landscapes) and caption styles (descriptive, simple, detailed).\n"
   ]
  },
  {
   "cell_type": "code",
   "execution_count": 4,
   "id": "e87c285a",
   "metadata": {},
   "outputs": [
    {
     "name": "stdout",
     "output_type": "stream",
     "text": [
      "Collecting kagglehub\n",
      "  Downloading kagglehub-0.3.13-py3-none-any.whl.metadata (38 kB)\n",
      "Requirement already satisfied: packaging in /Users/e5028514/mariaaise/.venv/lib/python3.13/site-packages (from kagglehub) (25.0)\n",
      "Requirement already satisfied: pyyaml in /Users/e5028514/mariaaise/.venv/lib/python3.13/site-packages (from kagglehub) (6.0.2)\n",
      "Requirement already satisfied: requests in /Users/e5028514/mariaaise/.venv/lib/python3.13/site-packages (from kagglehub) (2.32.5)\n",
      "Requirement already satisfied: tqdm in /Users/e5028514/mariaaise/.venv/lib/python3.13/site-packages (from kagglehub) (4.67.1)\n",
      "Requirement already satisfied: charset_normalizer<4,>=2 in /Users/e5028514/mariaaise/.venv/lib/python3.13/site-packages (from requests->kagglehub) (3.4.3)\n",
      "Requirement already satisfied: idna<4,>=2.5 in /Users/e5028514/mariaaise/.venv/lib/python3.13/site-packages (from requests->kagglehub) (3.10)\n",
      "Requirement already satisfied: urllib3<3,>=1.21.1 in /Users/e5028514/mariaaise/.venv/lib/python3.13/site-packages (from requests->kagglehub) (2.5.0)\n",
      "Requirement already satisfied: certifi>=2017.4.17 in /Users/e5028514/mariaaise/.venv/lib/python3.13/site-packages (from requests->kagglehub) (2025.8.3)\n",
      "Downloading kagglehub-0.3.13-py3-none-any.whl (68 kB)\n",
      "Installing collected packages: kagglehub\n",
      "Successfully installed kagglehub-0.3.13\n"
     ]
    }
   ],
   "source": [
    "!pip install kagglehub"
   ]
  },
  {
   "cell_type": "code",
   "execution_count": 5,
   "id": "4f42d775",
   "metadata": {},
   "outputs": [
    {
     "name": "stderr",
     "output_type": "stream",
     "text": [
      "/Users/e5028514/mariaaise/.venv/lib/python3.13/site-packages/tqdm/auto.py:21: TqdmWarning: IProgress not found. Please update jupyter and ipywidgets. See https://ipywidgets.readthedocs.io/en/stable/user_install.html\n",
      "  from .autonotebook import tqdm as notebook_tqdm\n"
     ]
    },
    {
     "name": "stdout",
     "output_type": "stream",
     "text": [
      "Downloading from https://www.kaggle.com/api/v1/datasets/download/adityajn105/flickr8k?dataset_version_number=1...\n"
     ]
    },
    {
     "name": "stderr",
     "output_type": "stream",
     "text": [
      "100%|██████████| 1.04G/1.04G [19:18<00:00, 961kB/s] "
     ]
    },
    {
     "name": "stdout",
     "output_type": "stream",
     "text": [
      "Extracting files...\n"
     ]
    },
    {
     "name": "stderr",
     "output_type": "stream",
     "text": [
      "\n"
     ]
    },
    {
     "name": "stdout",
     "output_type": "stream",
     "text": [
      "Path to dataset files: /Users/e5028514/.cache/kagglehub/datasets/adityajn105/flickr8k/versions/1\n"
     ]
    }
   ],
   "source": [
    "import kagglehub\n",
    "\n",
    "# Download latest version\n",
    "path = kagglehub.dataset_download(\"adityajn105/flickr8k\")\n",
    "\n",
    "print(\"Path to dataset files:\", path)"
   ]
  },
  {
   "cell_type": "code",
   "execution_count": null,
   "id": "d47c6dea",
   "metadata": {},
   "outputs": [
    {
     "name": "stderr",
     "output_type": "stream",
     "text": [
      "/Users/e5028514/mariaaise/.venv/lib/python3.13/site-packages/tqdm/auto.py:21: TqdmWarning: IProgress not found. Please update jupyter and ipywidgets. See https://ipywidgets.readthedocs.io/en/stable/user_install.html\n",
      "  from .autonotebook import tqdm as notebook_tqdm\n"
     ]
    }
   ],
   "source": [
    "import os\n",
    "import pandas as pd\n",
    "from pathlib import Path\n",
    "from PIL import Image\n",
    "import torch\n",
    "from torch import nn\n",
    "from torch.utils.data import Dataset, DataLoader\n",
    "from transformers import CLIPProcessor, CLIPModel\n",
    "from sklearn.model_selection import train_test_split\n",
    "from tqdm.auto import tqdm\n"
   ]
  },
  {
   "cell_type": "code",
   "execution_count": null,
   "id": "f545ba57",
   "metadata": {},
   "outputs": [],
   "source": [
    "data_root = Path(path)\n",
    "images_root = data_root / \"Images\"\n",
    "captions_file = data_root / \"captions.txt\""
   ]
  },
  {
   "cell_type": "code",
   "execution_count": null,
   "id": "27ca8da0",
   "metadata": {},
   "outputs": [],
   "source": [
    "df = pd.read_csv(captions_file, sep=\",\", names=[\"image\", \"caption\"], skiprows=1)\n",
    "print(df.head())"
   ]
  },
  {
   "cell_type": "code",
   "execution_count": null,
   "id": "356e3d83",
   "metadata": {},
   "outputs": [],
   "source": [
    "df['image'] = df['image'].str.strip()"
   ]
  },
  {
   "cell_type": "code",
   "execution_count": null,
   "id": "965de1f9",
   "metadata": {},
   "outputs": [],
   "source": [
    "sorted_items = sorted(my_dict.items(), key=lambda x: x[1])\n",
    "for key, value in sorted_items[:20]:\n",
    "    print(f\"{key}: {value}\")"
   ]
  },
  {
   "cell_type": "code",
   "execution_count": 1,
   "id": "79ec5aec",
   "metadata": {},
   "outputs": [
    {
     "ename": "ModuleNotFoundError",
     "evalue": "No module named 'google.colab'",
     "output_type": "error",
     "traceback": [
      "\u001b[31m---------------------------------------------------------------------------\u001b[39m",
      "\u001b[31mModuleNotFoundError\u001b[39m                       Traceback (most recent call last)",
      "\u001b[36mCell\u001b[39m\u001b[36m \u001b[39m\u001b[32mIn[1]\u001b[39m\u001b[32m, line 1\u001b[39m\n\u001b[32m----> \u001b[39m\u001b[32m1\u001b[39m \u001b[38;5;28;01mfrom\u001b[39;00m\u001b[38;5;250m \u001b[39m\u001b[34;01mgoogle\u001b[39;00m\u001b[34;01m.\u001b[39;00m\u001b[34;01mcolab\u001b[39;00m\u001b[38;5;250m \u001b[39m\u001b[38;5;28;01mimport\u001b[39;00m files\n\u001b[32m      2\u001b[39m files.upload()  \u001b[38;5;66;03m# upload kaggle.json\u001b[39;00m\n",
      "\u001b[31mModuleNotFoundError\u001b[39m: No module named 'google.colab'"
     ]
    }
   ],
   "source": [
    "from google.colab import files\n",
    "files.upload()  # upload kaggle.json\n"
   ]
  },
  {
   "cell_type": "code",
   "execution_count": null,
   "id": "71689168",
   "metadata": {},
   "outputs": [],
   "source": [
    "#TODO: load Flickr8k dataset from https://www.kaggle.com/datasets/adityajn105/flickr8k?select=Images, the notebook will be run in Google Colab. load the dataset"
   ]
  },
  {
   "cell_type": "code",
   "execution_count": null,
   "id": "30ca0af2",
   "metadata": {},
   "outputs": [],
   "source": [
    "#TODO: load Flickr8k dataset from https://www.kaggle.com/datasets/adityajn105/flickr8k?select=Images, the notebook will be run in Google Colab. load the dataset"
   ]
  },
  {
   "cell_type": "code",
   "execution_count": null,
   "id": "9f6c9ba4",
   "metadata": {},
   "outputs": [],
   "source": [
    "#TODO: load Flickr8k dataset from https://www.kaggle.com/datasets/adityajn105/flickr8k?select=Images, the notebook will be run in Google Colab. load the dataset"
   ]
  },
  {
   "cell_type": "code",
   "execution_count": null,
   "id": "be5d16fa",
   "metadata": {},
   "outputs": [
    {
     "data": {
      "text/plain": [
       "{'path': 'en-AU~PAY_BILL/response_4.wav',\n",
       " 'audio': <datasets.features._torchcodec.AudioDecoder at 0x110fc0590>,\n",
       " 'transcription': 'I would like to pay my electricity bill using my card can you please assist',\n",
       " 'english_transcription': 'I would like to pay my electricity bill using my card can you please assist',\n",
       " 'intent_class': 13,\n",
       " 'lang_id': 2}"
      ]
     },
     "metadata": {},
     "output_type": "display_data"
    }
   ],
   "source": [
    "example = minds[0]\n",
    "example"
   ]
  },
  {
   "cell_type": "code",
   "execution_count": null,
   "id": "db8f78ab",
   "metadata": {},
   "outputs": [
    {
     "data": {
      "text/plain": [
       "{'path': 'en-AU~PAY_BILL/response_4.wav',\n",
       " 'audio': <datasets.features._torchcodec.AudioDecoder at 0x110fc0590>,\n",
       " 'transcription': 'I would like to pay my electricity bill using my card can you please assist',\n",
       " 'english_transcription': 'I would like to pay my electricity bill using my card can you please assist',\n",
       " 'intent_class': 13,\n",
       " 'lang_id': 2}"
      ]
     },
     "metadata": {},
     "output_type": "display_data"
    }
   ],
   "source": [
    "example = minds[0]\n",
    "example"
   ]
  }
 ],
 "metadata": {
  "kernelspec": {
   "display_name": ".venv",
   "language": "python",
   "name": "python3"
  },
  "language_info": {
   "codemirror_mode": {
    "name": "ipython",
    "version": 3
   },
   "file_extension": ".py",
   "mimetype": "text/x-python",
   "name": "python",
   "nbconvert_exporter": "python",
   "pygments_lexer": "ipython3",
   "version": "3.13.4"
  }
 },
 "nbformat": 4,
 "nbformat_minor": 5
}
