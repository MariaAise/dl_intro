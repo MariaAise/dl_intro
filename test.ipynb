{
 "cells": [
  {
   "cell_type": "markdown",
   "id": "99e75660",
   "metadata": {},
   "source": [
    "### This is a document\n",
    "\n",
    "come and **enjoy**"
   ]
  },
  {
   "cell_type": "code",
   "execution_count": 4,
   "id": "11d51148",
   "metadata": {},
   "outputs": [],
   "source": [
    "import requests\n",
    "import json\n",
    "from datetime import datetime, timedelta \n",
    "import time\n"
   ]
  },
  {
   "cell_type": "code",
   "execution_count": null,
   "id": "cdc274a8",
   "metadata": {},
   "outputs": [],
   "source": [
    "def get_hn_stories_by_keyword(keyword, months=2):\n",
    "    \"\"\"\n",
    "    Retrieve Hacker News stories containing a keyword from the last N months\n",
    "\n",
    "    Args:\n",
    "        keyword (str): The keyword to search for\n",
    "        months (int): Number of months to look back (default: 2)\n",
    "\n",
    "    Returns:\n",
    "        list: List of stories matching the criteria\n",
    "    \"\"\"\n",
    "\n",
    "    # Calculate timestamp for N months ago\n",
    "    two_months_ago = datetime.now() - timedelta(days=30 * months)\n",
    "    timestamp = int(two_months_ago.timestamp())\n",
    "\n",
    "    # Search Hacker News API\n",
    "    search_url = \"https://hn.algolia.com/api/v1/search_by_date\"\n",
    "\n",
    "    params = {\n",
    "        'query': keyword,\n",
    "        'tags': 'story',\n",
    "        'numericFilters': f'created_at_i>{timestamp}',\n",
    "        'hitsPerPage': 1000  # Maximum allowed\n",
    "    }\n",
    "\n",
    "    try:\n",
    "        response = requests.get(search_url, params=params)\n",
    "        response.raise_for_status()\n",
    "\n",
    "        data = response.json()\n",
    "        stories = data.get('hits', [])\n",
    "\n",
    "        # Filter stories to ensure they contain the keyword in title or content\n",
    "        filtered_stories = []\n",
    "        for story in stories:\n",
    "            title = story.get('title', '').lower()\n",
    "            story_text = story.get('story_text', '').lower()\n",
    "            keyword_lower = keyword.lower()\n",
    "\n",
    "            if keyword_lower in title or keyword_lower in story_text:\n",
    "                filtered_stories.append({\n",
    "                    'title': story.get('title', 'No title'),\n",
    "                    'url': story.get('url', f\"https://news.ycombinator.com/item?id={story['objectID']}\"),\n",
    "                    'points': story.get('points', 0),\n",
    "                    'comments': story.get('num_comments', 0),\n",
    "                    'author': story.get('author', 'Unknown'),\n",
    "                    'created_at': story.get('created_at', ''),\n",
    "                    'hn_url': f\"https://news.ycombinator.com/item?id={story['objectID']}\"\n",
    "                })\n",
    "\n",
    "        return filtered_stories\n",
    "\n",
    "    except requests.exceptions.RequestException as e:\n",
    "        print(f\"Error fetching data: {e}\")\n",
    "        return []\n",
    "\n",
    "def display_stories(stories):\n",
    "    if not stories:\n",
    "        print(\"No stories found matching the criteria.\")\n",
    "        return\n",
    "    print(f\"Found {len(stories)} stories matching the criteria:\\n\")\n",
    "    print(\"-\" * 80)\n",
    "\n",
    "    for story in stories:\n",
    "        print(f\"Title: {story.get('title', 'No title')}\")\n",
    "        print(f\"URL: {story.get('url', '')}\")\n",
    "        print(f\"Author: {story.get('author', 'Unknown')}\")\n",
    "        print(f\"Points: {story.get('points', 0)}, Comments: {story.get('num_comments', 0)}\")\n",
    "        print(f\"Created At: {story.get('created_at', '')}\")\n",
    "        print(\"-\" * 80)"
   ]
  },
  {
   "cell_type": "code",
   "execution_count": 18,
   "id": "678870e6",
   "metadata": {},
   "outputs": [
    {
     "name": "stdout",
     "output_type": "stream",
     "text": [
      "Found 27 stories matching the criteria:\n",
      "\n",
      "--------------------------------------------------------------------------------\n",
      "Title: Show HN: Digital Wardrobe – Track your daily outfit cost\n",
      "URL: https://news.ycombinator.com/item?id=45003289\n",
      "Author: Jasperio\n"
     ]
    },
    {
     "ename": "KeyError",
     "evalue": "'num_comments'",
     "output_type": "error",
     "traceback": [
      "\u001b[31m---------------------------------------------------------------------------\u001b[39m",
      "\u001b[31mKeyError\u001b[39m                                  Traceback (most recent call last)",
      "\u001b[36mCell\u001b[39m\u001b[36m \u001b[39m\u001b[32mIn[18]\u001b[39m\u001b[32m, line 2\u001b[39m\n\u001b[32m      1\u001b[39m data=get_hn_stories_by_keyword(\u001b[33m\"\u001b[39m\u001b[33mfashion\u001b[39m\u001b[33m\"\u001b[39m, months=\u001b[32m2\u001b[39m)\n\u001b[32m----> \u001b[39m\u001b[32m2\u001b[39m \u001b[43mdisplay_stories\u001b[49m\u001b[43m(\u001b[49m\u001b[43mdata\u001b[49m\u001b[43m)\u001b[49m\n",
      "\u001b[36mCell\u001b[39m\u001b[36m \u001b[39m\u001b[32mIn[15]\u001b[39m\u001b[32m, line 69\u001b[39m, in \u001b[36mdisplay_stories\u001b[39m\u001b[34m(stories)\u001b[39m\n\u001b[32m     67\u001b[39m \u001b[38;5;28mprint\u001b[39m(\u001b[33mf\u001b[39m\u001b[33m\"\u001b[39m\u001b[33mURL: \u001b[39m\u001b[38;5;132;01m{\u001b[39;00mstory[\u001b[33m'\u001b[39m\u001b[33murl\u001b[39m\u001b[33m'\u001b[39m]\u001b[38;5;132;01m}\u001b[39;00m\u001b[33m\"\u001b[39m)\n\u001b[32m     68\u001b[39m \u001b[38;5;28mprint\u001b[39m(\u001b[33mf\u001b[39m\u001b[33m\"\u001b[39m\u001b[33mAuthor: \u001b[39m\u001b[38;5;132;01m{\u001b[39;00mstory[\u001b[33m'\u001b[39m\u001b[33mauthor\u001b[39m\u001b[33m'\u001b[39m]\u001b[38;5;132;01m}\u001b[39;00m\u001b[33m\"\u001b[39m)\n\u001b[32m---> \u001b[39m\u001b[32m69\u001b[39m \u001b[38;5;28mprint\u001b[39m(\u001b[33mf\u001b[39m\u001b[33m\"\u001b[39m\u001b[33mPoints: \u001b[39m\u001b[38;5;132;01m{\u001b[39;00mstory[\u001b[33m'\u001b[39m\u001b[33mpoints\u001b[39m\u001b[33m'\u001b[39m]\u001b[38;5;132;01m}\u001b[39;00m\u001b[33m, Comments: \u001b[39m\u001b[38;5;132;01m{\u001b[39;00m\u001b[43mstory\u001b[49m\u001b[43m[\u001b[49m\u001b[33;43m'\u001b[39;49m\u001b[33;43mnum_comments\u001b[39;49m\u001b[33;43m'\u001b[39;49m\u001b[43m]\u001b[49m\u001b[38;5;132;01m}\u001b[39;00m\u001b[33m\"\u001b[39m)\n\u001b[32m     70\u001b[39m \u001b[38;5;28mprint\u001b[39m(\u001b[33mf\u001b[39m\u001b[33m\"\u001b[39m\u001b[33mCreated At: \u001b[39m\u001b[38;5;132;01m{\u001b[39;00mstory[\u001b[33m'\u001b[39m\u001b[33mcreated_at\u001b[39m\u001b[33m'\u001b[39m]\u001b[38;5;132;01m}\u001b[39;00m\u001b[33m\"\u001b[39m)\n\u001b[32m     71\u001b[39m \u001b[38;5;28mprint\u001b[39m(\u001b[33m\"\u001b[39m\u001b[33m-\u001b[39m\u001b[33m\"\u001b[39m * \u001b[32m80\u001b[39m)\n",
      "\u001b[31mKeyError\u001b[39m: 'num_comments'"
     ]
    }
   ],
   "source": [
    "data=get_hn_stories_by_keyword(\"fashion\", months=2)\n",
    "display_stories(data)"
   ]
  },
  {
   "cell_type": "code",
   "execution_count": 11,
   "id": "aa7482d7",
   "metadata": {},
   "outputs": [
    {
     "name": "stdout",
     "output_type": "stream",
     "text": [
      "1751343385.607998\n"
     ]
    }
   ],
   "source": [
    "time_span=get_hh_stories(\"python\")\n",
    "print(time_span.timestamp())\n"
   ]
  },
  {
   "cell_type": "code",
   "execution_count": null,
   "id": "8f4110e9",
   "metadata": {},
   "outputs": [],
   "source": [
    "#Audio"
   ]
  },
  {
   "cell_type": "code",
   "execution_count": 2,
   "id": "078ad1fc",
   "metadata": {},
   "outputs": [
    {
     "name": "stdout",
     "output_type": "stream",
     "text": [
      "Collecting datasets\n",
      "  Downloading datasets-4.0.0-py3-none-any.whl.metadata (19 kB)\n",
      "Collecting filelock (from datasets)\n",
      "  Downloading filelock-3.19.1-py3-none-any.whl.metadata (2.1 kB)\n",
      "Requirement already satisfied: numpy>=1.17 in /Users/e5028514/venvs/llm_course/lib/python3.12/site-packages (from datasets) (2.3.0)\n",
      "Collecting pyarrow>=15.0.0 (from datasets)\n",
      "  Downloading pyarrow-21.0.0-cp312-cp312-macosx_12_0_arm64.whl.metadata (3.3 kB)\n",
      "Collecting dill<0.3.9,>=0.3.0 (from datasets)\n",
      "  Downloading dill-0.3.8-py3-none-any.whl.metadata (10 kB)\n",
      "Requirement already satisfied: pandas in /Users/e5028514/venvs/llm_course/lib/python3.12/site-packages (from datasets) (2.3.0)\n",
      "Requirement already satisfied: requests>=2.32.2 in /Users/e5028514/venvs/llm_course/lib/python3.12/site-packages (from datasets) (2.32.3)\n",
      "Requirement already satisfied: tqdm>=4.66.3 in /Users/e5028514/venvs/llm_course/lib/python3.12/site-packages (from datasets) (4.67.1)\n",
      "Collecting xxhash (from datasets)\n",
      "  Downloading xxhash-3.5.0-cp312-cp312-macosx_11_0_arm64.whl.metadata (12 kB)\n",
      "Collecting multiprocess<0.70.17 (from datasets)\n",
      "  Downloading multiprocess-0.70.16-py312-none-any.whl.metadata (7.2 kB)\n",
      "Collecting fsspec<=2025.3.0,>=2023.1.0 (from fsspec[http]<=2025.3.0,>=2023.1.0->datasets)\n",
      "  Downloading fsspec-2025.3.0-py3-none-any.whl.metadata (11 kB)\n",
      "Collecting huggingface-hub>=0.24.0 (from datasets)\n",
      "  Downloading huggingface_hub-0.34.4-py3-none-any.whl.metadata (14 kB)\n",
      "Requirement already satisfied: packaging in /Users/e5028514/venvs/llm_course/lib/python3.12/site-packages (from datasets) (25.0)\n",
      "Requirement already satisfied: pyyaml>=5.1 in /Users/e5028514/venvs/llm_course/lib/python3.12/site-packages (from datasets) (6.0.2)\n",
      "Requirement already satisfied: aiohttp!=4.0.0a0,!=4.0.0a1 in /Users/e5028514/venvs/llm_course/lib/python3.12/site-packages (from fsspec[http]<=2025.3.0,>=2023.1.0->datasets) (3.12.15)\n",
      "Requirement already satisfied: aiohappyeyeballs>=2.5.0 in /Users/e5028514/venvs/llm_course/lib/python3.12/site-packages (from aiohttp!=4.0.0a0,!=4.0.0a1->fsspec[http]<=2025.3.0,>=2023.1.0->datasets) (2.6.1)\n",
      "Requirement already satisfied: aiosignal>=1.4.0 in /Users/e5028514/venvs/llm_course/lib/python3.12/site-packages (from aiohttp!=4.0.0a0,!=4.0.0a1->fsspec[http]<=2025.3.0,>=2023.1.0->datasets) (1.4.0)\n",
      "Requirement already satisfied: attrs>=17.3.0 in /Users/e5028514/venvs/llm_course/lib/python3.12/site-packages (from aiohttp!=4.0.0a0,!=4.0.0a1->fsspec[http]<=2025.3.0,>=2023.1.0->datasets) (25.3.0)\n",
      "Requirement already satisfied: frozenlist>=1.1.1 in /Users/e5028514/venvs/llm_course/lib/python3.12/site-packages (from aiohttp!=4.0.0a0,!=4.0.0a1->fsspec[http]<=2025.3.0,>=2023.1.0->datasets) (1.7.0)\n",
      "Requirement already satisfied: multidict<7.0,>=4.5 in /Users/e5028514/venvs/llm_course/lib/python3.12/site-packages (from aiohttp!=4.0.0a0,!=4.0.0a1->fsspec[http]<=2025.3.0,>=2023.1.0->datasets) (6.6.4)\n",
      "Requirement already satisfied: propcache>=0.2.0 in /Users/e5028514/venvs/llm_course/lib/python3.12/site-packages (from aiohttp!=4.0.0a0,!=4.0.0a1->fsspec[http]<=2025.3.0,>=2023.1.0->datasets) (0.3.2)\n",
      "Requirement already satisfied: yarl<2.0,>=1.17.0 in /Users/e5028514/venvs/llm_course/lib/python3.12/site-packages (from aiohttp!=4.0.0a0,!=4.0.0a1->fsspec[http]<=2025.3.0,>=2023.1.0->datasets) (1.20.1)\n",
      "Requirement already satisfied: idna>=2.0 in /Users/e5028514/venvs/llm_course/lib/python3.12/site-packages (from yarl<2.0,>=1.17.0->aiohttp!=4.0.0a0,!=4.0.0a1->fsspec[http]<=2025.3.0,>=2023.1.0->datasets) (3.10)\n",
      "Requirement already satisfied: typing-extensions>=4.2 in /Users/e5028514/venvs/llm_course/lib/python3.12/site-packages (from aiosignal>=1.4.0->aiohttp!=4.0.0a0,!=4.0.0a1->fsspec[http]<=2025.3.0,>=2023.1.0->datasets) (4.14.0)\n",
      "Collecting hf-xet<2.0.0,>=1.1.3 (from huggingface-hub>=0.24.0->datasets)\n",
      "  Downloading hf_xet-1.1.10-cp37-abi3-macosx_11_0_arm64.whl.metadata (4.7 kB)\n",
      "Requirement already satisfied: charset-normalizer<4,>=2 in /Users/e5028514/venvs/llm_course/lib/python3.12/site-packages (from requests>=2.32.2->datasets) (3.4.2)\n",
      "Requirement already satisfied: urllib3<3,>=1.21.1 in /Users/e5028514/venvs/llm_course/lib/python3.12/site-packages (from requests>=2.32.2->datasets) (2.4.0)\n",
      "Requirement already satisfied: certifi>=2017.4.17 in /Users/e5028514/venvs/llm_course/lib/python3.12/site-packages (from requests>=2.32.2->datasets) (2025.4.26)\n",
      "Requirement already satisfied: python-dateutil>=2.8.2 in /Users/e5028514/venvs/llm_course/lib/python3.12/site-packages (from pandas->datasets) (2.9.0.post0)\n",
      "Requirement already satisfied: pytz>=2020.1 in /Users/e5028514/venvs/llm_course/lib/python3.12/site-packages (from pandas->datasets) (2025.2)\n",
      "Requirement already satisfied: tzdata>=2022.7 in /Users/e5028514/venvs/llm_course/lib/python3.12/site-packages (from pandas->datasets) (2025.2)\n",
      "Requirement already satisfied: six>=1.5 in /Users/e5028514/venvs/llm_course/lib/python3.12/site-packages (from python-dateutil>=2.8.2->pandas->datasets) (1.17.0)\n",
      "Downloading datasets-4.0.0-py3-none-any.whl (494 kB)\n",
      "Downloading dill-0.3.8-py3-none-any.whl (116 kB)\n",
      "Downloading fsspec-2025.3.0-py3-none-any.whl (193 kB)\n",
      "Downloading multiprocess-0.70.16-py312-none-any.whl (146 kB)\n",
      "Downloading huggingface_hub-0.34.4-py3-none-any.whl (561 kB)\n",
      "\u001b[2K   \u001b[90m━━━━━━━━━━━━━━━━━━━━━━━━━━━━━━━━━━━━━━━━\u001b[0m \u001b[32m561.5/561.5 kB\u001b[0m \u001b[31m2.9 MB/s\u001b[0m  \u001b[33m0:00:00\u001b[0m eta \u001b[36m0:00:01\u001b[0m\n",
      "\u001b[?25hDownloading hf_xet-1.1.10-cp37-abi3-macosx_11_0_arm64.whl (2.6 MB)\n",
      "\u001b[2K   \u001b[90m━━━━━━━━━━━━━━━━━━━━━━━━━━━━━━━━━━━━━━━━\u001b[0m \u001b[32m2.6/2.6 MB\u001b[0m \u001b[31m2.2 MB/s\u001b[0m  \u001b[33m0:00:01\u001b[0m eta \u001b[36m0:00:01\u001b[0m\n",
      "\u001b[?25hDownloading pyarrow-21.0.0-cp312-cp312-macosx_12_0_arm64.whl (31.2 MB)\n",
      "\u001b[2K   \u001b[90m━━━━━━━━━━━━━━━━━━━━━━━━━━━━━━━━━━━━━━━━\u001b[0m \u001b[32m31.2/31.2 MB\u001b[0m \u001b[31m2.4 MB/s\u001b[0m  \u001b[33m0:00:12\u001b[0mm0:00:01\u001b[0m00:01\u001b[0m\n",
      "\u001b[?25hDownloading filelock-3.19.1-py3-none-any.whl (15 kB)\n",
      "Downloading xxhash-3.5.0-cp312-cp312-macosx_11_0_arm64.whl (30 kB)\n",
      "Installing collected packages: xxhash, pyarrow, hf-xet, fsspec, filelock, dill, multiprocess, huggingface-hub, datasets\n",
      "\u001b[2K   \u001b[90m━━━━━━━━━━━━━━━━━━━━━━━━━━━━━━━━━━━━━━━━\u001b[0m \u001b[32m9/9\u001b[0m [datasets]8/9\u001b[0m [datasets]ce-hub]\n",
      "\u001b[1A\u001b[2KSuccessfully installed datasets-4.0.0 dill-0.3.8 filelock-3.19.1 fsspec-2025.3.0 hf-xet-1.1.10 huggingface-hub-0.34.4 multiprocess-0.70.16 pyarrow-21.0.0 xxhash-3.5.0\n"
     ]
    }
   ],
   "source": [
    "!pip install datasets"
   ]
  },
  {
   "cell_type": "code",
   "execution_count": 3,
   "id": "201fc05c",
   "metadata": {},
   "outputs": [],
   "source": [
    "def get_data_files():\n",
    "    data_files = pd.DataFrame()\n",
    "    for subdir, dirs, files in os.walk('data'):\n",
    "        for file in files:\n",
    "            if not file == '.DS_Store':\n",
    "                f_split = file.split('.')[0].split('-')\n",
    "                tmp = pd.DataFrame({\n",
    "                      'full_path':os.path.join(subdir, file)\n",
    "                    , 'parent_path':subdir\n",
    "                    , 'file_name': file\n",
    "                    , 'actor_num': subdir.split('_')[1]\n",
    "                    , 'modelity': modality[f_split[0]]\n",
    "                    , 'vocal_channel': vocal_channel[f_split[1]]\n",
    "                    , 'emotion': emotions[f_split[2]]\n",
    "                    , 'emotional_intensity': emotional_intensity[f_split[3]]\n",
    "                    , 'statement': statement[f_split[4]]\n",
    "                    , 'repetition': repetition[f_split[5]]\n",
    "                    , 'actor_gender': get_actor()[f_split[6]]\n",
    "                }, index=[0])\n",
    "                data_files = data_files.append(tmp, ignore_index=True, sort=False)    \n",
    "    return data_files\n",
    "    "
   ]
  },
  {
   "cell_type": "code",
   "execution_count": 5,
   "id": "c603ddcc",
   "metadata": {},
   "outputs": [
    {
     "name": "stdout",
     "output_type": "stream",
     "text": [
      "Requirement already satisfied: numpy in /Users/e5028514/venvs/llm_course/lib/python3.12/site-packages (2.3.0)\n",
      "Requirement already satisfied: pandas in /Users/e5028514/venvs/llm_course/lib/python3.12/site-packages (2.3.0)\n",
      "Collecting librosa\n",
      "  Downloading librosa-0.11.0-py3-none-any.whl.metadata (8.7 kB)\n",
      "Collecting soundfile\n",
      "  Downloading soundfile-0.13.1-py2.py3-none-macosx_11_0_arm64.whl.metadata (16 kB)\n",
      "Collecting scikit-learn\n",
      "  Downloading scikit_learn-1.7.2-cp312-cp312-macosx_12_0_arm64.whl.metadata (11 kB)\n",
      "Collecting matplotlib\n",
      "  Downloading matplotlib-3.10.6-cp312-cp312-macosx_11_0_arm64.whl.metadata (11 kB)\n",
      "Collecting tensorflow\n",
      "  Downloading tensorflow-2.20.0-cp312-cp312-macosx_12_0_arm64.whl.metadata (4.5 kB)\n",
      "Requirement already satisfied: python-dateutil>=2.8.2 in /Users/e5028514/venvs/llm_course/lib/python3.12/site-packages (from pandas) (2.9.0.post0)\n",
      "Requirement already satisfied: pytz>=2020.1 in /Users/e5028514/venvs/llm_course/lib/python3.12/site-packages (from pandas) (2025.2)\n",
      "Requirement already satisfied: tzdata>=2022.7 in /Users/e5028514/venvs/llm_course/lib/python3.12/site-packages (from pandas) (2025.2)\n",
      "Collecting audioread>=2.1.9 (from librosa)\n",
      "  Downloading audioread-3.0.1-py3-none-any.whl.metadata (8.4 kB)\n",
      "Collecting numba>=0.51.0 (from librosa)\n",
      "  Downloading numba-0.61.2-cp312-cp312-macosx_11_0_arm64.whl.metadata (2.8 kB)\n",
      "Collecting scipy>=1.6.0 (from librosa)\n",
      "  Downloading scipy-1.16.2-cp312-cp312-macosx_14_0_arm64.whl.metadata (62 kB)\n",
      "Collecting joblib>=1.0 (from librosa)\n",
      "  Downloading joblib-1.5.2-py3-none-any.whl.metadata (5.6 kB)\n",
      "Requirement already satisfied: decorator>=4.3.0 in /Users/e5028514/venvs/llm_course/lib/python3.12/site-packages (from librosa) (5.2.1)\n",
      "Collecting pooch>=1.1 (from librosa)\n",
      "  Downloading pooch-1.8.2-py3-none-any.whl.metadata (10 kB)\n",
      "Collecting soxr>=0.3.2 (from librosa)\n",
      "  Downloading soxr-1.0.0-cp312-abi3-macosx_11_0_arm64.whl.metadata (5.6 kB)\n",
      "Requirement already satisfied: typing_extensions>=4.1.1 in /Users/e5028514/venvs/llm_course/lib/python3.12/site-packages (from librosa) (4.14.0)\n",
      "Collecting lazy_loader>=0.1 (from librosa)\n",
      "  Downloading lazy_loader-0.4-py3-none-any.whl.metadata (7.6 kB)\n",
      "Collecting msgpack>=1.0 (from librosa)\n",
      "  Downloading msgpack-1.1.1-cp312-cp312-macosx_11_0_arm64.whl.metadata (8.4 kB)\n",
      "Requirement already satisfied: cffi>=1.0 in /Users/e5028514/venvs/llm_course/lib/python3.12/site-packages (from soundfile) (1.17.1)\n",
      "Collecting threadpoolctl>=3.1.0 (from scikit-learn)\n",
      "  Downloading threadpoolctl-3.6.0-py3-none-any.whl.metadata (13 kB)\n",
      "Collecting contourpy>=1.0.1 (from matplotlib)\n",
      "  Downloading contourpy-1.3.3-cp312-cp312-macosx_11_0_arm64.whl.metadata (5.5 kB)\n",
      "Collecting cycler>=0.10 (from matplotlib)\n",
      "  Downloading cycler-0.12.1-py3-none-any.whl.metadata (3.8 kB)\n",
      "Collecting fonttools>=4.22.0 (from matplotlib)\n",
      "  Downloading fonttools-4.59.2-cp312-cp312-macosx_10_13_universal2.whl.metadata (109 kB)\n",
      "Collecting kiwisolver>=1.3.1 (from matplotlib)\n",
      "  Downloading kiwisolver-1.4.9-cp312-cp312-macosx_11_0_arm64.whl.metadata (6.3 kB)\n",
      "Requirement already satisfied: packaging>=20.0 in /Users/e5028514/venvs/llm_course/lib/python3.12/site-packages (from matplotlib) (25.0)\n",
      "Requirement already satisfied: pillow>=8 in /Users/e5028514/venvs/llm_course/lib/python3.12/site-packages (from matplotlib) (11.3.0)\n",
      "Collecting pyparsing>=2.3.1 (from matplotlib)\n",
      "  Downloading pyparsing-3.2.4-py3-none-any.whl.metadata (5.0 kB)\n",
      "Collecting absl-py>=1.0.0 (from tensorflow)\n",
      "  Downloading absl_py-2.3.1-py3-none-any.whl.metadata (3.3 kB)\n",
      "Collecting astunparse>=1.6.0 (from tensorflow)\n",
      "  Downloading astunparse-1.6.3-py2.py3-none-any.whl.metadata (4.4 kB)\n",
      "Collecting flatbuffers>=24.3.25 (from tensorflow)\n",
      "  Downloading flatbuffers-25.2.10-py2.py3-none-any.whl.metadata (875 bytes)\n",
      "Collecting gast!=0.5.0,!=0.5.1,!=0.5.2,>=0.2.1 (from tensorflow)\n",
      "  Downloading gast-0.6.0-py3-none-any.whl.metadata (1.3 kB)\n",
      "Collecting google_pasta>=0.1.1 (from tensorflow)\n",
      "  Downloading google_pasta-0.2.0-py3-none-any.whl.metadata (814 bytes)\n",
      "Collecting libclang>=13.0.0 (from tensorflow)\n",
      "  Downloading libclang-18.1.1-1-py2.py3-none-macosx_11_0_arm64.whl.metadata (5.2 kB)\n",
      "Collecting opt_einsum>=2.3.2 (from tensorflow)\n",
      "  Downloading opt_einsum-3.4.0-py3-none-any.whl.metadata (6.3 kB)\n",
      "Requirement already satisfied: protobuf>=5.28.0 in /Users/e5028514/venvs/llm_course/lib/python3.12/site-packages (from tensorflow) (5.29.5)\n",
      "Requirement already satisfied: requests<3,>=2.21.0 in /Users/e5028514/venvs/llm_course/lib/python3.12/site-packages (from tensorflow) (2.32.3)\n",
      "Requirement already satisfied: setuptools in /Users/e5028514/venvs/llm_course/lib/python3.12/site-packages (from tensorflow) (80.9.0)\n",
      "Requirement already satisfied: six>=1.12.0 in /Users/e5028514/venvs/llm_course/lib/python3.12/site-packages (from tensorflow) (1.17.0)\n",
      "Collecting termcolor>=1.1.0 (from tensorflow)\n",
      "  Downloading termcolor-3.1.0-py3-none-any.whl.metadata (6.4 kB)\n",
      "Collecting wrapt>=1.11.0 (from tensorflow)\n",
      "  Downloading wrapt-1.17.3-cp312-cp312-macosx_11_0_arm64.whl.metadata (6.4 kB)\n",
      "Requirement already satisfied: grpcio<2.0,>=1.24.3 in /Users/e5028514/venvs/llm_course/lib/python3.12/site-packages (from tensorflow) (1.74.0)\n",
      "Collecting tensorboard~=2.20.0 (from tensorflow)\n",
      "  Downloading tensorboard-2.20.0-py3-none-any.whl.metadata (1.8 kB)\n",
      "Collecting keras>=3.10.0 (from tensorflow)\n",
      "  Downloading keras-3.11.3-py3-none-any.whl.metadata (5.9 kB)\n",
      "Collecting h5py>=3.11.0 (from tensorflow)\n",
      "  Downloading h5py-3.14.0-cp312-cp312-macosx_11_0_arm64.whl.metadata (2.7 kB)\n",
      "Collecting ml_dtypes<1.0.0,>=0.5.1 (from tensorflow)\n",
      "  Downloading ml_dtypes-0.5.3-cp312-cp312-macosx_10_13_universal2.whl.metadata (8.9 kB)\n",
      "Requirement already satisfied: charset-normalizer<4,>=2 in /Users/e5028514/venvs/llm_course/lib/python3.12/site-packages (from requests<3,>=2.21.0->tensorflow) (3.4.2)\n",
      "Requirement already satisfied: idna<4,>=2.5 in /Users/e5028514/venvs/llm_course/lib/python3.12/site-packages (from requests<3,>=2.21.0->tensorflow) (3.10)\n",
      "Requirement already satisfied: urllib3<3,>=1.21.1 in /Users/e5028514/venvs/llm_course/lib/python3.12/site-packages (from requests<3,>=2.21.0->tensorflow) (2.4.0)\n",
      "Requirement already satisfied: certifi>=2017.4.17 in /Users/e5028514/venvs/llm_course/lib/python3.12/site-packages (from requests<3,>=2.21.0->tensorflow) (2025.4.26)\n",
      "Collecting markdown>=2.6.8 (from tensorboard~=2.20.0->tensorflow)\n",
      "  Downloading markdown-3.9-py3-none-any.whl.metadata (5.1 kB)\n",
      "Collecting tensorboard-data-server<0.8.0,>=0.7.0 (from tensorboard~=2.20.0->tensorflow)\n",
      "  Downloading tensorboard_data_server-0.7.2-py3-none-any.whl.metadata (1.1 kB)\n",
      "Collecting werkzeug>=1.0.1 (from tensorboard~=2.20.0->tensorflow)\n",
      "  Downloading werkzeug-3.1.3-py3-none-any.whl.metadata (3.7 kB)\n",
      "Collecting wheel<1.0,>=0.23.0 (from astunparse>=1.6.0->tensorflow)\n",
      "  Downloading wheel-0.45.1-py3-none-any.whl.metadata (2.3 kB)\n",
      "Requirement already satisfied: pycparser in /Users/e5028514/venvs/llm_course/lib/python3.12/site-packages (from cffi>=1.0->soundfile) (2.22)\n",
      "Requirement already satisfied: rich in /Users/e5028514/venvs/llm_course/lib/python3.12/site-packages (from keras>=3.10.0->tensorflow) (14.1.0)\n",
      "Collecting namex (from keras>=3.10.0->tensorflow)\n",
      "  Downloading namex-0.1.0-py3-none-any.whl.metadata (322 bytes)\n",
      "Collecting optree (from keras>=3.10.0->tensorflow)\n",
      "  Downloading optree-0.17.0-cp312-cp312-macosx_11_0_arm64.whl.metadata (33 kB)\n",
      "Collecting llvmlite<0.45,>=0.44.0dev0 (from numba>=0.51.0->librosa)\n",
      "  Downloading llvmlite-0.44.0-cp312-cp312-macosx_11_0_arm64.whl.metadata (4.8 kB)\n",
      "Collecting numpy\n",
      "  Downloading numpy-2.2.6-cp312-cp312-macosx_14_0_arm64.whl.metadata (62 kB)\n",
      "Requirement already satisfied: platformdirs>=2.5.0 in /Users/e5028514/venvs/llm_course/lib/python3.12/site-packages (from pooch>=1.1->librosa) (4.3.8)\n",
      "Requirement already satisfied: MarkupSafe>=2.1.1 in /Users/e5028514/venvs/llm_course/lib/python3.12/site-packages (from werkzeug>=1.0.1->tensorboard~=2.20.0->tensorflow) (3.0.2)\n",
      "Requirement already satisfied: markdown-it-py>=2.2.0 in /Users/e5028514/venvs/llm_course/lib/python3.12/site-packages (from rich->keras>=3.10.0->tensorflow) (4.0.0)\n",
      "Requirement already satisfied: pygments<3.0.0,>=2.13.0 in /Users/e5028514/venvs/llm_course/lib/python3.12/site-packages (from rich->keras>=3.10.0->tensorflow) (2.19.1)\n",
      "Requirement already satisfied: mdurl~=0.1 in /Users/e5028514/venvs/llm_course/lib/python3.12/site-packages (from markdown-it-py>=2.2.0->rich->keras>=3.10.0->tensorflow) (0.1.2)\n",
      "Downloading librosa-0.11.0-py3-none-any.whl (260 kB)\n",
      "Downloading soundfile-0.13.1-py2.py3-none-macosx_11_0_arm64.whl (1.1 MB)\n",
      "\u001b[2K   \u001b[90m━━━━━━━━━━━━━━━━━━━━━━━━━━━━━━━━━━━━━━━━\u001b[0m \u001b[32m1.1/1.1 MB\u001b[0m \u001b[31m8.1 MB/s\u001b[0m  \u001b[33m0:00:00\u001b[0m\n",
      "\u001b[?25hDownloading scikit_learn-1.7.2-cp312-cp312-macosx_12_0_arm64.whl (8.6 MB)\n",
      "\u001b[2K   \u001b[90m━━━━━━━━━━━━━━━━━━━━━━━━━━━━━━━━━━━━━━━━\u001b[0m \u001b[32m8.6/8.6 MB\u001b[0m \u001b[31m4.8 MB/s\u001b[0m  \u001b[33m0:00:01\u001b[0m eta \u001b[36m0:00:01\u001b[0mm\n",
      "\u001b[?25hDownloading matplotlib-3.10.6-cp312-cp312-macosx_11_0_arm64.whl (8.1 MB)\n",
      "\u001b[2K   \u001b[90m━━━━━━━━━━━━━━━━━━━━━━━━━━━━━━━━━━━━━━━━\u001b[0m \u001b[32m8.1/8.1 MB\u001b[0m \u001b[31m2.3 MB/s\u001b[0m  \u001b[33m0:00:03\u001b[0m eta \u001b[36m0:00:01\u001b[0m\n",
      "\u001b[?25hDownloading tensorflow-2.20.0-cp312-cp312-macosx_12_0_arm64.whl (200.5 MB)\n",
      "\u001b[2K   \u001b[90m━━━━━━━━━━━━━━━━━━━━━━━━━━━━━━━━━━━━━━━━\u001b[0m \u001b[32m200.5/200.5 MB\u001b[0m \u001b[31m2.5 MB/s\u001b[0m  \u001b[33m0:01:30\u001b[0mm0:00:01\u001b[0m00:03\u001b[0m\n",
      "\u001b[?25hDownloading ml_dtypes-0.5.3-cp312-cp312-macosx_10_13_universal2.whl (663 kB)\n",
      "\u001b[2K   \u001b[90m━━━━━━━━━━━━━━━━━━━━━━━━━━━━━━━━━━━━━━━━\u001b[0m \u001b[32m663.9/663.9 kB\u001b[0m \u001b[31m1.7 MB/s\u001b[0m  \u001b[33m0:00:00\u001b[0m eta \u001b[36m0:00:01\u001b[0m\n",
      "\u001b[?25hDownloading tensorboard-2.20.0-py3-none-any.whl (5.5 MB)\n",
      "\u001b[2K   \u001b[90m━━━━━━━━━━━━━━━━━━━━━━━━━━━━━━━━━━━━━━━━\u001b[0m \u001b[32m5.5/5.5 MB\u001b[0m \u001b[31m2.2 MB/s\u001b[0m  \u001b[33m0:00:02\u001b[0m eta \u001b[36m0:00:01\u001b[0m\n",
      "\u001b[?25hDownloading tensorboard_data_server-0.7.2-py3-none-any.whl (2.4 kB)\n",
      "Downloading absl_py-2.3.1-py3-none-any.whl (135 kB)\n",
      "Downloading astunparse-1.6.3-py2.py3-none-any.whl (12 kB)\n",
      "Downloading wheel-0.45.1-py3-none-any.whl (72 kB)\n",
      "Downloading audioread-3.0.1-py3-none-any.whl (23 kB)\n",
      "Downloading contourpy-1.3.3-cp312-cp312-macosx_11_0_arm64.whl (273 kB)\n",
      "Downloading cycler-0.12.1-py3-none-any.whl (8.3 kB)\n",
      "Downloading flatbuffers-25.2.10-py2.py3-none-any.whl (30 kB)\n",
      "Downloading fonttools-4.59.2-cp312-cp312-macosx_10_13_universal2.whl (2.8 MB)\n",
      "\u001b[2K   \u001b[90m━━━━━━━━━━━━━━━━━━━━━━━━━━━━━━━━━━━━━━━━\u001b[0m \u001b[32m2.8/2.8 MB\u001b[0m \u001b[31m1.8 MB/s\u001b[0m  \u001b[33m0:00:01\u001b[0m eta \u001b[36m0:00:01\u001b[0m\n",
      "\u001b[?25hDownloading gast-0.6.0-py3-none-any.whl (21 kB)\n",
      "Downloading google_pasta-0.2.0-py3-none-any.whl (57 kB)\n",
      "Downloading h5py-3.14.0-cp312-cp312-macosx_11_0_arm64.whl (2.8 MB)\n",
      "\u001b[2K   \u001b[90m━━━━━━━━━━━━━━━━━━━━━━━━━━━━━━━━━━━━━━━━\u001b[0m \u001b[32m2.8/2.8 MB\u001b[0m \u001b[31m2.6 MB/s\u001b[0m  \u001b[33m0:00:01\u001b[0m eta \u001b[36m0:00:01\u001b[0m\n",
      "\u001b[?25hDownloading joblib-1.5.2-py3-none-any.whl (308 kB)\n",
      "Downloading keras-3.11.3-py3-none-any.whl (1.4 MB)\n",
      "\u001b[2K   \u001b[90m━━━━━━━━━━━━━━━━━━━━━━━━━━━━━━━━━━━━━━━━\u001b[0m \u001b[32m1.4/1.4 MB\u001b[0m \u001b[31m2.4 MB/s\u001b[0m  \u001b[33m0:00:00\u001b[0m eta \u001b[36m0:00:01\u001b[0m\n",
      "\u001b[?25hDownloading kiwisolver-1.4.9-cp312-cp312-macosx_11_0_arm64.whl (64 kB)\n",
      "Downloading lazy_loader-0.4-py3-none-any.whl (12 kB)\n",
      "Downloading libclang-18.1.1-1-py2.py3-none-macosx_11_0_arm64.whl (25.8 MB)\n",
      "\u001b[2K   \u001b[90m━━━━━━━━━━━━━━━━━━━━━━━━━━━━━━━━━━━━━━━━\u001b[0m \u001b[32m25.8/25.8 MB\u001b[0m \u001b[31m2.1 MB/s\u001b[0m  \u001b[33m0:00:12\u001b[0mm0:00:01\u001b[0m00:01\u001b[0m\n",
      "\u001b[?25hDownloading markdown-3.9-py3-none-any.whl (107 kB)\n",
      "Downloading msgpack-1.1.1-cp312-cp312-macosx_11_0_arm64.whl (79 kB)\n",
      "Downloading numba-0.61.2-cp312-cp312-macosx_11_0_arm64.whl (2.8 MB)\n",
      "\u001b[2K   \u001b[90m━━━━━━━━━━━━━━━━━━━━━━━━━━━━━━━━━━━━━━━━\u001b[0m \u001b[32m2.8/2.8 MB\u001b[0m \u001b[31m1.4 MB/s\u001b[0m  \u001b[33m0:00:01\u001b[0m eta \u001b[36m0:00:01\u001b[0m\n",
      "\u001b[?25hDownloading numpy-2.2.6-cp312-cp312-macosx_14_0_arm64.whl (5.1 MB)\n",
      "\u001b[2K   \u001b[90m━━━━━━━━━━━━━━━━━━━━━━━━━━━━━━━━━━━━━━━━\u001b[0m \u001b[32m5.1/5.1 MB\u001b[0m \u001b[31m2.1 MB/s\u001b[0m  \u001b[33m0:00:02\u001b[0m eta \u001b[36m0:00:01\u001b[0m\n",
      "\u001b[?25hDownloading llvmlite-0.44.0-cp312-cp312-macosx_11_0_arm64.whl (26.2 MB)\n",
      "\u001b[2K   \u001b[90m━━━━━━━━━━━━━━━━━━━━━━━━━━━━━━━━━━━━━━━━\u001b[0m \u001b[32m26.2/26.2 MB\u001b[0m \u001b[31m2.3 MB/s\u001b[0m  \u001b[33m0:00:11\u001b[0m eta \u001b[36m0:00:01\u001b[0m\n",
      "\u001b[?25hDownloading opt_einsum-3.4.0-py3-none-any.whl (71 kB)\n",
      "Downloading pooch-1.8.2-py3-none-any.whl (64 kB)\n",
      "Downloading pyparsing-3.2.4-py3-none-any.whl (113 kB)\n",
      "Downloading scipy-1.16.2-cp312-cp312-macosx_14_0_arm64.whl (20.9 MB)\n",
      "\u001b[2K   \u001b[90m━━━━━━━━━━━━━━━━━━━━━━━━━━━━━━━━━━━━━━━━\u001b[0m \u001b[32m20.9/20.9 MB\u001b[0m \u001b[31m1.4 MB/s\u001b[0m  \u001b[33m0:00:14\u001b[0mm0:00:01\u001b[0m00:01\u001b[0m\n",
      "\u001b[?25hDownloading soxr-1.0.0-cp312-abi3-macosx_11_0_arm64.whl (163 kB)\n",
      "Downloading termcolor-3.1.0-py3-none-any.whl (7.7 kB)\n",
      "Downloading threadpoolctl-3.6.0-py3-none-any.whl (18 kB)\n",
      "Downloading werkzeug-3.1.3-py3-none-any.whl (224 kB)\n",
      "Downloading wrapt-1.17.3-cp312-cp312-macosx_11_0_arm64.whl (39 kB)\n",
      "Downloading namex-0.1.0-py3-none-any.whl (5.9 kB)\n",
      "Downloading optree-0.17.0-cp312-cp312-macosx_11_0_arm64.whl (351 kB)\n",
      "Installing collected packages: namex, libclang, flatbuffers, wrapt, wheel, werkzeug, threadpoolctl, termcolor, tensorboard-data-server, pyparsing, optree, opt_einsum, numpy, msgpack, markdown, llvmlite, lazy_loader, kiwisolver, joblib, google_pasta, gast, fonttools, cycler, audioread, absl-py, tensorboard, soxr, soundfile, scipy, pooch, numba, ml_dtypes, h5py, contourpy, astunparse, scikit-learn, matplotlib, keras, tensorflow, librosa\n",
      "\u001b[2K  Attempting uninstall: numpy\u001b[0m\u001b[90m━━━━━━━━━━━━━━━━━━━━━━━━━━━━\u001b[0m \u001b[32m11/40\u001b[0m [opt_einsum]\n",
      "\u001b[2K    Found existing installation: numpy 2.3.0━━━━━━━━━━━━━━━━━━\u001b[0m \u001b[32m11/40\u001b[0m [opt_einsum]\n",
      "\u001b[2K    Uninstalling numpy-2.3.0:\u001b[90m━━━━━━━━━━━━━━━━━━━━━━━━━━━━\u001b[0m \u001b[32m11/40\u001b[0m [opt_einsum]\n",
      "\u001b[2K      Successfully uninstalled numpy-2.3.0━━━━━━━━━━━━━━━━━━━━\u001b[0m \u001b[32m11/40\u001b[0m [opt_einsum]\n",
      "\u001b[2K   \u001b[90m━━━━━━━━━━━━━━━━━━━━━━━━━━━━━━━━━━━━━━━━\u001b[0m \u001b[32m40/40\u001b[0m [librosa][librosa][tensorflow]n]\n",
      "\u001b[1A\u001b[2KSuccessfully installed absl-py-2.3.1 astunparse-1.6.3 audioread-3.0.1 contourpy-1.3.3 cycler-0.12.1 flatbuffers-25.2.10 fonttools-4.59.2 gast-0.6.0 google_pasta-0.2.0 h5py-3.14.0 joblib-1.5.2 keras-3.11.3 kiwisolver-1.4.9 lazy_loader-0.4 libclang-18.1.1 librosa-0.11.0 llvmlite-0.44.0 markdown-3.9 matplotlib-3.10.6 ml_dtypes-0.5.3 msgpack-1.1.1 namex-0.1.0 numba-0.61.2 numpy-2.2.6 opt_einsum-3.4.0 optree-0.17.0 pooch-1.8.2 pyparsing-3.2.4 scikit-learn-1.7.2 scipy-1.16.2 soundfile-0.13.1 soxr-1.0.0 tensorboard-2.20.0 tensorboard-data-server-0.7.2 tensorflow-2.20.0 termcolor-3.1.0 threadpoolctl-3.6.0 werkzeug-3.1.3 wheel-0.45.1 wrapt-1.17.3\n"
     ]
    }
   ],
   "source": [
    "!pip install numpy pandas librosa soundfile scikit-learn matplotlib tensorflow"
   ]
  },
  {
   "cell_type": "code",
   "execution_count": null,
   "id": "8ef959be",
   "metadata": {},
   "outputs": [
    {
     "ename": "NameError",
     "evalue": "name 'pd' is not defined",
     "output_type": "error",
     "traceback": [
      "\u001b[31m---------------------------------------------------------------------------\u001b[39m",
      "\u001b[31mNameError\u001b[39m                                 Traceback (most recent call last)",
      "\u001b[36mCell\u001b[39m\u001b[36m \u001b[39m\u001b[32mIn[4]\u001b[39m\u001b[32m, line 1\u001b[39m\n\u001b[32m----> \u001b[39m\u001b[32m1\u001b[39m data_files = \u001b[43mget_data_files\u001b[49m\u001b[43m(\u001b[49m\u001b[43m)\u001b[49m\n\u001b[32m      3\u001b[39m data_files.info()\n",
      "\u001b[36mCell\u001b[39m\u001b[36m \u001b[39m\u001b[32mIn[3]\u001b[39m\u001b[32m, line 2\u001b[39m, in \u001b[36mget_data_files\u001b[39m\u001b[34m()\u001b[39m\n\u001b[32m      1\u001b[39m \u001b[38;5;28;01mdef\u001b[39;00m\u001b[38;5;250m \u001b[39m\u001b[34mget_data_files\u001b[39m():\n\u001b[32m----> \u001b[39m\u001b[32m2\u001b[39m     data_files = \u001b[43mpd\u001b[49m.DataFrame()\n\u001b[32m      3\u001b[39m     \u001b[38;5;28;01mfor\u001b[39;00m subdir, dirs, files \u001b[38;5;129;01min\u001b[39;00m os.walk(\u001b[33m'\u001b[39m\u001b[33mdata\u001b[39m\u001b[33m'\u001b[39m):\n\u001b[32m      4\u001b[39m         \u001b[38;5;28;01mfor\u001b[39;00m file \u001b[38;5;129;01min\u001b[39;00m files:\n",
      "\u001b[31mNameError\u001b[39m: name 'pd' is not defined"
     ]
    }
   ],
   "source": [
    "import os\n",
    "import glob\n",
    "import numpy as np\n",
    "import pandas as pd\n",
    "import librosa\n",
    "import soundfile as sf\n",
    "from sklearn.model_selection import train_test_split\n",
    "from sklearn.preprocessing import LabelEncoder\n",
    "from sklearn.metrics import classification_report, confusion_matrix\n",
    "import tensorflow as tf\n",
    "from tensorflow.keras import layers, models, callbacks\n",
    "import matplotlib.pyplot as plt\n",
    "import itertools\n",
    "\n",
    "\n",
    "\n",
    "# --------- CONFIG ----------\n",
    "#import drive\n",
    "# from google.colab import drive\n",
    "# drive.mount('/content/drive')\n",
    "\n",
    "\n",
    "DATA_PATH = \"/kaggle/input/ravdess-emotional-speech-audio\"   # <-- set this to where your WAV files are\n",
    "SR = 22050                    # sampling rate for librosa.load\n",
    "N_MFCC = 40                   # number of MFCC coefficients\n",
    "MAX_PAD_LEN = 174             # number of time frames to pad/truncate to (tunable)\n",
    "BATCH_SIZE = 32\n",
    "EPOCHS = 40\n",
    "TEST_SIZE = 0.2\n",
    "RANDOM_STATE = 42\n",
    "MODEL_OUT = \"ravdess_ser_cnn.h5\"\n",
    "# ---------------------------\n",
    "\n",
    "# RAVDESS emotion mapping (filename 3rd field)\n",
    "EMOTIONS = {\n",
    "    '01': 'neutral',\n",
    "    '02': 'calm',\n",
    "    '03': 'happy',\n",
    "    '04': 'sad',\n",
    "    '05': 'angry',\n",
    "    '06': 'fearful',\n",
    "    '07': 'disgust',\n",
    "    '08': 'surprised'\n",
    "}\n",
    "\n",
    "def extract_emotion_from_filename(filename):\n",
    "    # filename is e.g. .../03-01-05-01-02-01-12.wav\n",
    "    base = os.path.basename(filename)\n",
    "    parts = base.split('.')[0].split('-')\n",
    "    if len(parts) < 3:\n",
    "        return None\n",
    "    emo_code = parts[2]\n",
    "    return EMOTIONS.get(emo_code)\n",
    "\n",
    "def pad_or_truncate(mfcc, max_len=MAX_PAD_LEN):\n",
    "    # mfcc shape: (n_mfcc, time)\n",
    "    if mfcc.shape[1] < max_len:\n",
    "        pad_width = max_len - mfcc.shape[1]\n",
    "        mfcc = np.pad(mfcc, pad_width=((0,0),(0,pad_width)), mode='constant')\n",
    "    else:\n",
    "        mfcc = mfcc[:, :max_len]\n",
    "    return mfcc\n",
    "\n",
    "def extract_features(file_path, sr=SR, n_mfcc=N_MFCC, max_pad_len=MAX_PAD_LEN):\n",
    "    # load audio\n",
    "    try:\n",
    "        y, sr = librosa.load(file_path, sr=sr)\n",
    "    except Exception as e:\n",
    "        print(f\"Error loading {file_path}: {e}\")\n",
    "        return None\n",
    "    # compute MFCCs\n",
    "    mfcc = librosa.feature.mfcc(y=y, sr=sr, n_mfcc=n_mfcc)\n",
    "    # compute deltas\n",
    "    delta = librosa.feature.delta(mfcc)\n",
    "    delta2 = librosa.feature.delta(mfcc, order=2)\n",
    "    # stack MFCC + delta + delta2 (resulting in channels = 3)\n",
    "    stacked = np.vstack([mfcc, delta, delta2])  # shape (n_mfcc*3, time)\n",
    "    # pad / truncate in time dimension\n",
    "    stacked = pad_or_truncate(stacked, max_pad_len)\n",
    "    return stacked\n",
    "\n",
    "\n",
    "\n",
    "def load_dataset(data_path):\n",
    "    pattern = os.path.join(data_path, '**', '*.wav')\n",
    "    files = glob.glob(pattern, recursive=True)\n",
    "    print(f\"Found {len(files)} wav files.\")\n",
    "    X, Y = [], []\n",
    "    for f in files:\n",
    "        emo = extract_emotion_from_filename(f)\n",
    "        if emo is None:\n",
    "            continue\n",
    "        feat = extract_features(f)\n",
    "        if feat is None:\n",
    "            continue\n",
    "        X.append(feat)\n",
    "        Y.append(emo)\n",
    "    X = np.array(X)\n",
    "    Y = np.array(Y)\n",
    "    print(\"X shape (num_samples, features, time):\", X.shape)\n",
    "    return X, Y\n",
    "\n",
    "def build_cnn_model(input_shape, num_classes):\n",
    "    # input_shape: (channels, time) where channels = n_mfcc*3\n",
    "    # We'll treat input as \"image\" with shape (channels, time, 1)\n",
    "    inp = layers.Input(shape=(input_shape[0], input_shape[1], 1))\n",
    "    x = layers.Conv2D(32, (3,3), activation='relu', padding='same')(inp)\n",
    "    x = layers.BatchNormalization()(x)\n",
    "    x = layers.MaxPooling2D((2,2))(x)\n",
    "\n",
    "    x = layers.Conv2D(64, (3,3), activation='relu', padding='same')(x)\n",
    "    x = layers.BatchNormalization()(x)\n",
    "    x = layers.MaxPooling2D((2,2))(x)\n",
    "\n",
    "    x = layers.Conv2D(128, (3,3), activation='relu', padding='same')(x)\n",
    "    x = layers.BatchNormalization()(x)\n",
    "    x = layers.MaxPooling2D((2,2))(x)\n",
    "\n",
    "    x = layers.GlobalAveragePooling2D()(x)\n",
    "    x = layers.Dense(128, activation='relu')(x)\n",
    "    x = layers.Dropout(0.4)(x)\n",
    "    out = layers.Dense(num_classes, activation='softmax')(x)\n",
    "\n",
    "    model = models.Model(inputs=inp, outputs=out)\n",
    "    model.compile(optimizer='adam',\n",
    "                  loss='categorical_crossentropy',\n",
    "                  metrics=['accuracy'])\n",
    "    return model\n",
    "\n",
    "def plot_confusion_matrix(cm, classes, normalize=False, title='Confusion matrix'):\n",
    "    if normalize:\n",
    "        cm = cm.astype('float') / (cm.sum(axis=1)[:, np.newaxis] + 1e-8)\n",
    "    plt.figure(figsize=(8,6))\n",
    "    plt.imshow(cm, interpolation='nearest', cmap=plt.cm.Blues)\n",
    "    plt.title(title)\n",
    "    plt.colorbar()\n",
    "    tick_marks = np.arange(len(classes))\n",
    "    plt.xticks(tick_marks, classes, rotation=45)\n",
    "    plt.yticks(tick_marks, classes)\n",
    "    thresh = cm.max() / 2.\n",
    "    for i, j in itertools.product(range(cm.shape[0]), range(cm.shape[1])):\n",
    "        val = f\"{cm[i, j]:.2f}\" if normalize else f\"{int(cm[i, j])}\"\n",
    "        plt.text(j, i, val,\n",
    "                 horizontalalignment=\"center\",\n",
    "                 color=\"white\" if cm[i, j] > thresh else \"black\")\n",
    "    plt.ylabel('True label')\n",
    "    plt.xlabel('Predicted label')\n",
    "    plt.tight_layout()\n",
    "    plt.show()\n",
    "\n",
    "def main():\n",
    "    X, Y = load_dataset(DATA_PATH)\n",
    "\n",
    "    # limit classes if you want (example: use only a subset). Here we use all 8 emotions.\n",
    "    labels = np.unique(Y)\n",
    "    print(\"Emotions in data:\", labels)\n",
    "\n",
    "    # reshape X for CNN: currently (N, features, time) -> convert to (N, features, time, 1)\n",
    "    X = X[..., np.newaxis]\n",
    "\n",
    "    # encode labels\n",
    "    le = LabelEncoder()\n",
    "    y_encoded = le.fit_transform(Y)\n",
    "    num_classes = len(le.classes_)\n",
    "    y_cat = tf.keras.utils.to_categorical(y_encoded, num_classes=num_classes)\n",
    "\n",
    "    # train-test split\n",
    "    X_train, X_test, y_train, y_test = train_test_split(\n",
    "        X, y_cat, test_size=TEST_SIZE, random_state=RANDOM_STATE, stratify=y_encoded\n",
    "    )\n",
    "\n",
    "    print(\"Train shape:\", X_train.shape, y_train.shape)\n",
    "    print(\"Test shape:\", X_test.shape, y_test.shape)\n",
    "\n",
    "    # build model\n",
    "    input_shape = (X.shape[1], X.shape[2])  # (features, time)\n",
    "    model = build_cnn_model((input_shape[0], input_shape[1]), num_classes)\n",
    "    model.summary()\n",
    "\n",
    "    # callbacks\n",
    "    cb = [\n",
    "        callbacks.EarlyStopping(monitor='val_loss', patience=6, restore_best_weights=True),\n",
    "        callbacks.ModelCheckpoint(MODEL_OUT, save_best_only=True, monitor='val_loss')\n",
    "    ]\n",
    "\n",
    "    history = model.fit(\n",
    "        X_train,\n",
    "        y_train,\n",
    "        validation_split=0.1,\n",
    "        epochs=EPOCHS,\n",
    "        batch_size=BATCH_SIZE,\n",
    "        callbacks=cb,\n",
    "        verbose=1\n",
    "    )\n",
    "\n",
    "    # evaluate\n",
    "    loss, acc = model.evaluate(X_test, y_test, verbose=0)\n",
    "    print(f\"Test loss: {loss:.4f}, Test accuracy: {acc:.4f}\")\n",
    "\n",
    "\n",
    "    cnn_result = {'Model': 'CNN', 'Test Accuracy': acc, 'Test Loss': loss}\n",
    "\n",
    "\n",
    "    # predictions and classification report\n",
    "    y_pred = model.predict(X_test)\n",
    "    y_pred_labels = np.argmax(y_pred, axis=1)\n",
    "    y_true_labels = np.argmax(y_test, axis=1)\n",
    "\n",
    "    print(\"Classification report:\")\n",
    "    print(classification_report(y_true_labels, y_pred_labels, target_names=le.classes_))\n",
    "\n",
    "    # confusion matrix\n",
    "    cm = confusion_matrix(y_true_labels, y_pred_labels)\n",
    "    plot_confusion_matrix(cm, classes=le.classes_, normalize=False, title='Confusion matrix (counts)')\n",
    "    plot_confusion_matrix(cm, classes=le.classes_, normalize=True, title='Confusion matrix (normalized)')\n",
    "\n",
    "    # plot training history\n",
    "    plt.figure(figsize=(12,4))\n",
    "    plt.subplot(1,2,1)\n",
    "    plt.plot(history.history['loss'], label='loss')\n",
    "    plt.plot(history.history['val_loss'], label='val_loss')\n",
    "    plt.legend(); plt.title('Loss')\n",
    "    plt.subplot(1,2,2)\n",
    "    plt.plot(history.history['accuracy'], label='acc')\n",
    "    plt.plot(history.history['val_accuracy'], label='val_acc')\n",
    "    plt.legend(); plt.title('Accuracy')\n",
    "    plt.show()\n"
   ]
  },
  {
   "cell_type": "code",
   "execution_count": null,
   "id": "ea5a830e",
   "metadata": {},
   "outputs": [],
   "source": [
    "from datasets import load_dataset\n",
    "\n",
    "ds = load_dataset(\"MahiA/RAVDESS\", cache_dir=\"/Volumes/Crucial X9/data\")"
   ]
  },
  {
   "cell_type": "code",
   "execution_count": null,
   "id": "330d0beb",
   "metadata": {},
   "outputs": [
    {
     "name": "stdout",
     "output_type": "stream",
     "text": [
      "Value('string')\n",
      "<class 'datasets.features.features.Value'>\n"
     ]
    }
   ],
   "source": [
    "labels=ds[\"train\"].features[\"classname\"]\n",
    "labels\n"
   ]
  },
  {
   "cell_type": "code",
   "execution_count": null,
   "id": "a6630c06",
   "metadata": {},
   "outputs": [
    {
     "name": "stdout",
     "output_type": "stream",
     "text": [
      "{'path': 'audios/03-02-06-02-02-01-03.wav', 'classname': 'fearful'}\n",
      "{'neutral', 'calm', 'happy', 'surprised', 'disgust', 'fearful', 'sad', 'angry'}\n",
      "<class 'set'>\n"
     ]
    }
   ],
   "source": [
    "print(ds[\"train\"][0])\n",
    "labels=set(ds[\"train\"][\"classname\"])\n",
    "\n",
    "print(f\"The labels in the datare: {labels}\")\n"
   ]
  },
  {
   "cell_type": "code",
   "execution_count": 25,
   "id": "000b985d",
   "metadata": {},
   "outputs": [
    {
     "name": "stdout",
     "output_type": "stream",
     "text": [
      "Label distribution:\n",
      "fearful: 301 samples\n",
      "sad: 301 samples\n",
      "calm: 301 samples\n",
      "surprised: 153 samples\n",
      "angry: 301 samples\n",
      "happy: 301 samples\n",
      "neutral: 150 samples\n",
      "disgust: 153 samples\n"
     ]
    }
   ],
   "source": [
    "from collections import Counter\n",
    "\n",
    "# Count occurrences of each label\n",
    "label_counts = Counter(ds[\"train\"][\"classname\"])\n",
    "print(\"Label distribution:\")\n",
    "for label, count in label_counts.items():\n",
    "    print(f\"{label}: {count} samples\")"
   ]
  },
  {
   "cell_type": "code",
   "execution_count": null,
   "id": "30427bb4",
   "metadata": {},
   "outputs": [
    {
     "data": {
      "text/plain": [
       "<BarContainer object of 8 artists>"
      ]
     },
     "execution_count": 38,
     "metadata": {},
     "output_type": "execute_result"
    },
    {
     "data": {
      "image/png": "[encoded data removed]",
      "text/plain": [
       "<Figure size 1000x600 with 1 Axes>"
      ]
     },
     "metadata": {},
     "output_type": "display_data"
    }
   ],
   "source": [
    "import matplotlib.pyplot as plt\n",
    "\n",
    "plt.figure(figsize=(10,6))\n",
    "plt.bar(label_counts.keys(), label_counts.values())\n",
    "plt.xlabel(\"Classname labels\")\n",
    "plt.ylabel(\"Number of samples\")\n",
    "\n"
   ]
  },
  {
   "cell_type": "code",
   "execution_count": null,
   "id": "114453db",
   "metadata": {},
   "outputs": [
    {
     "data": {
      "image/png": "[encoded data removed]",
      "text/plain": [
       "<Figure size 1200x600 with 1 Axes>"
      ]
     },
     "metadata": {},
     "output_type": "display_data"
    }
   ],
   "source": [
    "\n",
    "\n",
    "import matplotlib.pyplot as plt\n",
    "\n",
    "plt.figure(figsize=(12, 6))\n",
    "bars=plt.bar(label_counts.keys(), label_counts.values())\n",
    "plt.xlabel(\"Emotion labels\")\n",
    "plt.ylabel(\"Number of samples\")\n",
    "plt.title(\"Distribution of Emotion Labels in RAVDESS Training Set\")\n",
    "plt.xticks(rotation=45)\n",
    "\n",
    "for bar in bars:\n",
    "    height=bar.get_height()\n",
    "    plt.text(bar.get_x()+bar.get_width()/2, height+0.1, \n",
    "    f'{int(height)}', ha=\"center\", va=\"bottom\")\n",
    "\n",
    "plt.tight_layout()\n",
    "plt.show()"
   ]
  },
  {
   "cell_type": "code",
   "execution_count": 43,
   "id": "351bc45f",
   "metadata": {},
   "outputs": [
    {
     "name": "stdout",
     "output_type": "stream",
     "text": [
      "Collecting Gradio\n",
      "  Downloading gradio-5.45.0-py3-none-any.whl.metadata (16 kB)\n",
      "Collecting aiofiles<25.0,>=22.0 (from Gradio)\n",
      "  Downloading aiofiles-24.1.0-py3-none-any.whl.metadata (10 kB)\n",
      "Requirement already satisfied: anyio<5.0,>=3.0 in /Users/e5028514/venvs/llm_course/lib/python3.12/site-packages (from Gradio) (4.9.0)\n",
      "Collecting brotli>=1.1.0 (from Gradio)\n",
      "  Downloading Brotli-1.1.0-cp312-cp312-macosx_10_13_universal2.whl.metadata (5.5 kB)\n",
      "Collecting fastapi<1.0,>=0.115.2 (from Gradio)\n",
      "  Downloading fastapi-0.116.1-py3-none-any.whl.metadata (28 kB)\n",
      "Collecting ffmpy (from Gradio)\n",
      "  Downloading ffmpy-0.6.1-py3-none-any.whl.metadata (2.9 kB)\n",
      "Collecting gradio-client==1.13.0 (from Gradio)\n",
      "  Downloading gradio_client-1.13.0-py3-none-any.whl.metadata (7.1 kB)\n",
      "Collecting groovy~=0.1 (from Gradio)\n",
      "  Downloading groovy-0.1.2-py3-none-any.whl.metadata (6.1 kB)\n",
      "Requirement already satisfied: httpx<1.0,>=0.24.1 in /Users/e5028514/venvs/llm_course/lib/python3.12/site-packages (from Gradio) (0.28.1)\n",
      "Requirement already satisfied: huggingface-hub<1.0,>=0.33.5 in /Users/e5028514/venvs/llm_course/lib/python3.12/site-packages (from Gradio) (0.34.4)\n",
      "Requirement already satisfied: jinja2<4.0 in /Users/e5028514/venvs/llm_course/lib/python3.12/site-packages (from Gradio) (3.1.6)\n",
      "Requirement already satisfied: markupsafe<4.0,>=2.0 in /Users/e5028514/venvs/llm_course/lib/python3.12/site-packages (from Gradio) (3.0.2)\n",
      "Requirement already satisfied: numpy<3.0,>=1.0 in /Users/e5028514/venvs/llm_course/lib/python3.12/site-packages (from Gradio) (2.2.6)\n",
      "Collecting orjson~=3.0 (from Gradio)\n",
      "  Downloading orjson-3.11.3-cp312-cp312-macosx_15_0_arm64.whl.metadata (41 kB)\n",
      "Requirement already satisfied: packaging in /Users/e5028514/venvs/llm_course/lib/python3.12/site-packages (from Gradio) (25.0)\n",
      "Requirement already satisfied: pandas<3.0,>=1.0 in /Users/e5028514/venvs/llm_course/lib/python3.12/site-packages (from Gradio) (2.3.0)\n",
      "Requirement already satisfied: pillow<12.0,>=8.0 in /Users/e5028514/venvs/llm_course/lib/python3.12/site-packages (from Gradio) (11.3.0)\n",
      "Requirement already satisfied: pydantic<2.12,>=2.0 in /Users/e5028514/venvs/llm_course/lib/python3.12/site-packages (from Gradio) (2.11.7)\n",
      "Collecting pydub (from Gradio)\n",
      "  Downloading pydub-0.25.1-py2.py3-none-any.whl.metadata (1.4 kB)\n",
      "Collecting python-multipart>=0.0.18 (from Gradio)\n",
      "  Downloading python_multipart-0.0.20-py3-none-any.whl.metadata (1.8 kB)\n",
      "Requirement already satisfied: pyyaml<7.0,>=5.0 in /Users/e5028514/venvs/llm_course/lib/python3.12/site-packages (from Gradio) (6.0.2)\n",
      "Collecting ruff>=0.9.3 (from Gradio)\n",
      "  Downloading ruff-0.13.0-py3-none-macosx_11_0_arm64.whl.metadata (25 kB)\n",
      "Collecting safehttpx<0.2.0,>=0.1.6 (from Gradio)\n",
      "  Downloading safehttpx-0.1.6-py3-none-any.whl.metadata (4.2 kB)\n",
      "Collecting semantic-version~=2.0 (from Gradio)\n",
      "  Downloading semantic_version-2.10.0-py2.py3-none-any.whl.metadata (9.7 kB)\n",
      "Collecting starlette<1.0,>=0.40.0 (from Gradio)\n",
      "  Downloading starlette-0.48.0-py3-none-any.whl.metadata (6.3 kB)\n",
      "Collecting tomlkit<0.14.0,>=0.12.0 (from Gradio)\n",
      "  Downloading tomlkit-0.13.3-py3-none-any.whl.metadata (2.8 kB)\n",
      "Collecting typer<1.0,>=0.12 (from Gradio)\n",
      "  Downloading typer-0.17.4-py3-none-any.whl.metadata (15 kB)\n",
      "Requirement already satisfied: typing-extensions~=4.0 in /Users/e5028514/venvs/llm_course/lib/python3.12/site-packages (from Gradio) (4.14.0)\n",
      "Collecting uvicorn>=0.14.0 (from Gradio)\n",
      "  Downloading uvicorn-0.35.0-py3-none-any.whl.metadata (6.5 kB)\n",
      "Requirement already satisfied: fsspec in /Users/e5028514/venvs/llm_course/lib/python3.12/site-packages (from gradio-client==1.13.0->Gradio) (2025.3.0)\n",
      "Requirement already satisfied: websockets<16.0,>=10.0 in /Users/e5028514/venvs/llm_course/lib/python3.12/site-packages (from gradio-client==1.13.0->Gradio) (15.0.1)\n",
      "Requirement already satisfied: idna>=2.8 in /Users/e5028514/venvs/llm_course/lib/python3.12/site-packages (from anyio<5.0,>=3.0->Gradio) (3.10)\n",
      "Requirement already satisfied: sniffio>=1.1 in /Users/e5028514/venvs/llm_course/lib/python3.12/site-packages (from anyio<5.0,>=3.0->Gradio) (1.3.1)\n",
      "Collecting starlette<1.0,>=0.40.0 (from Gradio)\n",
      "  Downloading starlette-0.47.3-py3-none-any.whl.metadata (6.2 kB)\n",
      "Requirement already satisfied: certifi in /Users/e5028514/venvs/llm_course/lib/python3.12/site-packages (from httpx<1.0,>=0.24.1->Gradio) (2025.4.26)\n",
      "Requirement already satisfied: httpcore==1.* in /Users/e5028514/venvs/llm_course/lib/python3.12/site-packages (from httpx<1.0,>=0.24.1->Gradio) (1.0.9)\n",
      "Requirement already satisfied: h11>=0.16 in /Users/e5028514/venvs/llm_course/lib/python3.12/site-packages (from httpcore==1.*->httpx<1.0,>=0.24.1->Gradio) (0.16.0)\n",
      "Requirement already satisfied: filelock in /Users/e5028514/venvs/llm_course/lib/python3.12/site-packages (from huggingface-hub<1.0,>=0.33.5->Gradio) (3.19.1)\n",
      "Requirement already satisfied: requests in /Users/e5028514/venvs/llm_course/lib/python3.12/site-packages (from huggingface-hub<1.0,>=0.33.5->Gradio) (2.32.3)\n",
      "Requirement already satisfied: tqdm>=4.42.1 in /Users/e5028514/venvs/llm_course/lib/python3.12/site-packages (from huggingface-hub<1.0,>=0.33.5->Gradio) (4.67.1)\n",
      "Requirement already satisfied: hf-xet<2.0.0,>=1.1.3 in /Users/e5028514/venvs/llm_course/lib/python3.12/site-packages (from huggingface-hub<1.0,>=0.33.5->Gradio) (1.1.10)\n",
      "Requirement already satisfied: python-dateutil>=2.8.2 in /Users/e5028514/venvs/llm_course/lib/python3.12/site-packages (from pandas<3.0,>=1.0->Gradio) (2.9.0.post0)\n",
      "Requirement already satisfied: pytz>=2020.1 in /Users/e5028514/venvs/llm_course/lib/python3.12/site-packages (from pandas<3.0,>=1.0->Gradio) (2025.2)\n",
      "Requirement already satisfied: tzdata>=2022.7 in /Users/e5028514/venvs/llm_course/lib/python3.12/site-packages (from pandas<3.0,>=1.0->Gradio) (2025.2)\n",
      "Requirement already satisfied: annotated-types>=0.6.0 in /Users/e5028514/venvs/llm_course/lib/python3.12/site-packages (from pydantic<2.12,>=2.0->Gradio) (0.7.0)\n",
      "Requirement already satisfied: pydantic-core==2.33.2 in /Users/e5028514/venvs/llm_course/lib/python3.12/site-packages (from pydantic<2.12,>=2.0->Gradio) (2.33.2)\n",
      "Requirement already satisfied: typing-inspection>=0.4.0 in /Users/e5028514/venvs/llm_course/lib/python3.12/site-packages (from pydantic<2.12,>=2.0->Gradio) (0.4.1)\n",
      "Requirement already satisfied: click>=8.0.0 in /Users/e5028514/venvs/llm_course/lib/python3.12/site-packages (from typer<1.0,>=0.12->Gradio) (8.2.1)\n",
      "Collecting shellingham>=1.3.0 (from typer<1.0,>=0.12->Gradio)\n",
      "  Downloading shellingham-1.5.4-py2.py3-none-any.whl.metadata (3.5 kB)\n",
      "Requirement already satisfied: rich>=10.11.0 in /Users/e5028514/venvs/llm_course/lib/python3.12/site-packages (from typer<1.0,>=0.12->Gradio) (14.1.0)\n",
      "Requirement already satisfied: six>=1.5 in /Users/e5028514/venvs/llm_course/lib/python3.12/site-packages (from python-dateutil>=2.8.2->pandas<3.0,>=1.0->Gradio) (1.17.0)\n",
      "Requirement already satisfied: markdown-it-py>=2.2.0 in /Users/e5028514/venvs/llm_course/lib/python3.12/site-packages (from rich>=10.11.0->typer<1.0,>=0.12->Gradio) (4.0.0)\n",
      "Requirement already satisfied: pygments<3.0.0,>=2.13.0 in /Users/e5028514/venvs/llm_course/lib/python3.12/site-packages (from rich>=10.11.0->typer<1.0,>=0.12->Gradio) (2.19.1)\n",
      "Requirement already satisfied: mdurl~=0.1 in /Users/e5028514/venvs/llm_course/lib/python3.12/site-packages (from markdown-it-py>=2.2.0->rich>=10.11.0->typer<1.0,>=0.12->Gradio) (0.1.2)\n",
      "Requirement already satisfied: charset-normalizer<4,>=2 in /Users/e5028514/venvs/llm_course/lib/python3.12/site-packages (from requests->huggingface-hub<1.0,>=0.33.5->Gradio) (3.4.2)\n",
      "Requirement already satisfied: urllib3<3,>=1.21.1 in /Users/e5028514/venvs/llm_course/lib/python3.12/site-packages (from requests->huggingface-hub<1.0,>=0.33.5->Gradio) (2.4.0)\n",
      "Downloading gradio-5.45.0-py3-none-any.whl (60.4 MB)\n",
      "\u001b[2K   \u001b[90m━━━━━━━━━━━━━━━━━━━━━━━━━━━━━━━━━━━━━━━━\u001b[0m \u001b[32m60.4/60.4 MB\u001b[0m \u001b[31m2.2 MB/s\u001b[0m  \u001b[33m0:00:27\u001b[0mm0:00:01\u001b[0m00:01\u001b[0m\n",
      "\u001b[?25hDownloading gradio_client-1.13.0-py3-none-any.whl (325 kB)\n",
      "Downloading aiofiles-24.1.0-py3-none-any.whl (15 kB)\n",
      "Downloading fastapi-0.116.1-py3-none-any.whl (95 kB)\n",
      "Downloading groovy-0.1.2-py3-none-any.whl (14 kB)\n",
      "Downloading orjson-3.11.3-cp312-cp312-macosx_15_0_arm64.whl (127 kB)\n",
      "Downloading safehttpx-0.1.6-py3-none-any.whl (8.7 kB)\n",
      "Downloading semantic_version-2.10.0-py2.py3-none-any.whl (15 kB)\n",
      "Downloading starlette-0.47.3-py3-none-any.whl (72 kB)\n",
      "Downloading tomlkit-0.13.3-py3-none-any.whl (38 kB)\n",
      "Downloading typer-0.17.4-py3-none-any.whl (46 kB)\n",
      "Downloading Brotli-1.1.0-cp312-cp312-macosx_10_13_universal2.whl (815 kB)\n",
      "\u001b[2K   \u001b[90m━━━━━━━━━━━━━━━━━━━━━━━━━━━━━━━━━━━━━━━━\u001b[0m \u001b[32m815.7/815.7 kB\u001b[0m \u001b[31m2.2 MB/s\u001b[0m  \u001b[33m0:00:00\u001b[0m36m-:--:--\u001b[0m\n",
      "\u001b[?25hDownloading python_multipart-0.0.20-py3-none-any.whl (24 kB)\n",
      "Downloading ruff-0.13.0-py3-none-macosx_11_0_arm64.whl (12.1 MB)\n",
      "\u001b[2K   \u001b[90m━━━━━━━━━━━━━━━━━━━━━━━━━━━━━━━━━━━━━━━━\u001b[0m \u001b[32m12.1/12.1 MB\u001b[0m \u001b[31m3.3 MB/s\u001b[0m  \u001b[33m0:00:03\u001b[0m eta \u001b[36m0:00:01\u001b[0m\n",
      "\u001b[?25hDownloading shellingham-1.5.4-py2.py3-none-any.whl (9.8 kB)\n",
      "Downloading uvicorn-0.35.0-py3-none-any.whl (66 kB)\n",
      "Downloading ffmpy-0.6.1-py3-none-any.whl (5.5 kB)\n",
      "Downloading pydub-0.25.1-py2.py3-none-any.whl (32 kB)\n",
      "Installing collected packages: pydub, brotli, uvicorn, tomlkit, shellingham, semantic-version, ruff, python-multipart, orjson, groovy, ffmpy, aiofiles, starlette, typer, safehttpx, gradio-client, fastapi, Gradio\n",
      "\u001b[2K   \u001b[90m━━━━━━━━━━━━━━━━━━━━━━━━━━━━━━━━━━━━━━━━\u001b[0m \u001b[32m18/18\u001b[0m [Gradio]17/18\u001b[0m [Gradio]]\n",
      "\u001b[1A\u001b[2KSuccessfully installed Gradio-5.45.0 aiofiles-24.1.0 brotli-1.1.0 fastapi-0.116.1 ffmpy-0.6.1 gradio-client-1.13.0 groovy-0.1.2 orjson-3.11.3 pydub-0.25.1 python-multipart-0.0.20 ruff-0.13.0 safehttpx-0.1.6 semantic-version-2.10.0 shellingham-1.5.4 starlette-0.47.3 tomlkit-0.13.3 typer-0.17.4 uvicorn-0.35.0\n"
     ]
    }
   ],
   "source": [
    "!pip install Gradio"
   ]
  },
  {
   "cell_type": "code",
   "execution_count": 55,
   "id": "a5cb8950",
   "metadata": {},
   "outputs": [],
   "source": [
    "def greet(name, intensity):\n",
    "    return \"Hello \" + name + \"!\" * int(intensity)\n",
    "\n",
    "demo=gr.Interface(\n",
    "    fn=greet,\n",
    "    inputs=[\"text\", gr.Slider(1, 10)],\n",
    "    outputs=\"text\"  \n",
    ")"
   ]
  },
  {
   "cell_type": "code",
   "execution_count": null,
   "id": "dc01ad41",
   "metadata": {},
   "outputs": [
    {
     "name": "stdout",
     "output_type": "stream",
     "text": [
      "* Running on local URL:  http://127.0.0.1:7864\n",
      "* To create a public link, set `share=True` in `launch()`.\n"
     ]
    },
    {
     "data": {
      "text/html": [
       "<div><iframe src=\"http://127.0.0.1:7864/\" width=\"100%\" height=\"500\" allow=\"autoplay; camera; microphone; clipboard-read; clipboard-write;\" frameborder=\"0\" allowfullscreen></iframe></div>"
      ],
      "text/plain": [
       "<IPython.core.display.HTML object>"
      ]
     },
     "metadata": {},
     "output_type": "display_data"
    },
    {
     "data": {
      "text/plain": []
     },
     "execution_count": 57,
     "metadata": {},
     "output_type": "execute_result"
    }
   ],
   "source": [
    "demo.launch(share=True, debug=True)"
   ]
  },
  {
   "cell_type": "code",
   "execution_count": 2,
   "id": "f70e94b3",
   "metadata": {},
   "outputs": [
    {
     "name": "stdout",
     "output_type": "stream",
     "text": [
      "Collecting transformers\n",
      "  Downloading transformers-4.56.1-py3-none-any.whl.metadata (42 kB)\n",
      "Requirement already satisfied: filelock in /Users/e5028514/venvs/llm_course/lib/python3.12/site-packages (from transformers) (3.19.1)\n",
      "Requirement already satisfied: huggingface-hub<1.0,>=0.34.0 in /Users/e5028514/venvs/llm_course/lib/python3.12/site-packages (from transformers) (0.34.4)\n",
      "Requirement already satisfied: numpy>=1.17 in /Users/e5028514/venvs/llm_course/lib/python3.12/site-packages (from transformers) (2.2.6)\n",
      "Requirement already satisfied: packaging>=20.0 in /Users/e5028514/venvs/llm_course/lib/python3.12/site-packages (from transformers) (25.0)\n",
      "Requirement already satisfied: pyyaml>=5.1 in /Users/e5028514/venvs/llm_course/lib/python3.12/site-packages (from transformers) (6.0.2)\n",
      "Collecting regex!=2019.12.17 (from transformers)\n",
      "  Downloading regex-2025.9.1-cp312-cp312-macosx_11_0_arm64.whl.metadata (40 kB)\n",
      "Requirement already satisfied: requests in /Users/e5028514/venvs/llm_course/lib/python3.12/site-packages (from transformers) (2.32.3)\n",
      "Collecting tokenizers<=0.23.0,>=0.22.0 (from transformers)\n",
      "  Downloading tokenizers-0.22.0-cp39-abi3-macosx_11_0_arm64.whl.metadata (6.8 kB)\n",
      "Collecting safetensors>=0.4.3 (from transformers)\n",
      "  Downloading safetensors-0.6.2-cp38-abi3-macosx_11_0_arm64.whl.metadata (4.1 kB)\n",
      "Requirement already satisfied: tqdm>=4.27 in /Users/e5028514/venvs/llm_course/lib/python3.12/site-packages (from transformers) (4.67.1)\n",
      "Requirement already satisfied: fsspec>=2023.5.0 in /Users/e5028514/venvs/llm_course/lib/python3.12/site-packages (from huggingface-hub<1.0,>=0.34.0->transformers) (2025.3.0)\n",
      "Requirement already satisfied: typing-extensions>=3.7.4.3 in /Users/e5028514/venvs/llm_course/lib/python3.12/site-packages (from huggingface-hub<1.0,>=0.34.0->transformers) (4.14.0)\n",
      "Requirement already satisfied: hf-xet<2.0.0,>=1.1.3 in /Users/e5028514/venvs/llm_course/lib/python3.12/site-packages (from huggingface-hub<1.0,>=0.34.0->transformers) (1.1.10)\n",
      "Requirement already satisfied: charset-normalizer<4,>=2 in /Users/e5028514/venvs/llm_course/lib/python3.12/site-packages (from requests->transformers) (3.4.2)\n",
      "Requirement already satisfied: idna<4,>=2.5 in /Users/e5028514/venvs/llm_course/lib/python3.12/site-packages (from requests->transformers) (3.10)\n",
      "Requirement already satisfied: urllib3<3,>=1.21.1 in /Users/e5028514/venvs/llm_course/lib/python3.12/site-packages (from requests->transformers) (2.4.0)\n",
      "Requirement already satisfied: certifi>=2017.4.17 in /Users/e5028514/venvs/llm_course/lib/python3.12/site-packages (from requests->transformers) (2025.4.26)\n",
      "Downloading transformers-4.56.1-py3-none-any.whl (11.6 MB)\n",
      "\u001b[2K   \u001b[90m━━━━━━━━━━━━━━━━━━━━━━━━━━━━━━━━━━━━━━━━\u001b[0m \u001b[32m11.6/11.6 MB\u001b[0m \u001b[31m7.7 MB/s\u001b[0m  \u001b[33m0:00:01\u001b[0m eta \u001b[36m0:00:01\u001b[0m\n",
      "\u001b[?25hDownloading tokenizers-0.22.0-cp39-abi3-macosx_11_0_arm64.whl (2.9 MB)\n",
      "\u001b[2K   \u001b[90m━━━━━━━━━━━━━━━━━━━━━━━━━━━━━━━━━━━━━━━━\u001b[0m \u001b[32m2.9/2.9 MB\u001b[0m \u001b[31m3.0 MB/s\u001b[0m  \u001b[33m0:00:00\u001b[0m eta \u001b[36m0:00:01\u001b[0m\n",
      "\u001b[?25hDownloading regex-2025.9.1-cp312-cp312-macosx_11_0_arm64.whl (287 kB)\n",
      "Downloading safetensors-0.6.2-cp38-abi3-macosx_11_0_arm64.whl (432 kB)\n",
      "Installing collected packages: safetensors, regex, tokenizers, transformers\n",
      "\u001b[2K   \u001b[90m━━━━━━━━━━━━━━━━━━━━━━━━━━━━━━━━━━━━━━━━\u001b[0m \u001b[32m4/4\u001b[0m [transformers][0m [transformers]\n",
      "\u001b[1A\u001b[2KSuccessfully installed regex-2025.9.1 safetensors-0.6.2 tokenizers-0.22.0 transformers-4.56.1\n"
     ]
    }
   ],
   "source": [
    "!pip install transformers"
   ]
  },
  {
   "cell_type": "code",
   "execution_count": 2,
   "id": "3284359f",
   "metadata": {},
   "outputs": [
    {
     "data": {
      "text/plain": [
       "<matplotlib.image.AxesImage at 0x117971c10>"
      ]
     },
     "execution_count": 2,
     "metadata": {},
     "output_type": "execute_result"
    },
    {
     "data": {
      "image/png": "[encoded data removed]",
      "text/plain": [
       "<Figure size 1000x500 with 2 Axes>"
      ]
     },
     "metadata": {},
     "output_type": "display_data"
    }
   ],
   "source": [
    "#import gradio as gr\n",
    "#from transformers import pipeline\n",
    "from PIL import Image\n",
    "import matplotlib.pyplot as plt\n",
    "\n",
    "#clf=pipeline(\"image-classification\", model=\"google/vit-base-patch16-224\")\n",
    "\n",
    "image_path=\"/Users/e5028514/Desktop/Hero.png\"\n",
    "\n",
    "image=Image.open(image_path)\n",
    "\n",
    "fig, (ax1, ax2)=plt.subplots(1, 2, figsize=(10,5))\n",
    "ax1.imshow(image)"
   ]
  },
  {
   "cell_type": "code",
   "execution_count": null,
   "id": "d404be66",
   "metadata": {},
   "outputs": [],
   "source": [
    "import gradio as gr\n",
    "import tensorflow as tf\n",
    "from PIL import Image\n",
    "import numpy as np\n",
    "\n",
    "# Load your model (example with a simple function)\n",
    "def predict_image(image):\n",
    "    # This mocks-up the actual prediction to keep the example simple\n",
    "    image = image.resize((224, 224))\n",
    "    image_array = np.array(image) / 255.0\n",
    "    # Simulate prediction\n",
    "    return {\"Cat\": 0.7, \"Dog\": 0.3}\n",
    "\n",
    "with gr.Blocks(title=\"Animal Classifier\") as demo:\n",
    "    gr.Markdown(\"# 🐾 Animal Classifier\")\n",
    "    gr.Markdown(\"Upload an image to classify as cat or dog.\")\n",
    "\n",
    "    image_input = gr.Image(type=\"pil\", label=\"Upload Image\")\n",
    "    predict_btn = gr.Button(\"Classify\")\n",
    "    output_label = gr.Label()\n",
    "\n",
    "    predict_btn.click(\n",
    "        fn=predict_image,\n",
    "        inputs=image_input,\n",
    "        outputs=output_label\n",
    "    )\n",
    "\n",
    "demo.launch(debug=True)"
   ]
  },
  {
   "cell_type": "code",
   "execution_count": 48,
   "id": "7ce093db",
   "metadata": {},
   "outputs": [
    {
     "name": "stdout",
     "output_type": "stream",
     "text": [
      "Requirement already satisfied: soundfile in /Users/e5028514/venvs/llm_course/lib/python3.12/site-packages (0.13.1)\n",
      "Requirement already satisfied: huggingface_hub in /Users/e5028514/venvs/llm_course/lib/python3.12/site-packages (0.34.4)\n",
      "Requirement already satisfied: cffi>=1.0 in /Users/e5028514/venvs/llm_course/lib/python3.12/site-packages (from soundfile) (1.17.1)\n",
      "Requirement already satisfied: numpy in /Users/e5028514/venvs/llm_course/lib/python3.12/site-packages (from soundfile) (2.2.6)\n",
      "Requirement already satisfied: filelock in /Users/e5028514/venvs/llm_course/lib/python3.12/site-packages (from huggingface_hub) (3.19.1)\n",
      "Requirement already satisfied: fsspec>=2023.5.0 in /Users/e5028514/venvs/llm_course/lib/python3.12/site-packages (from huggingface_hub) (2025.3.0)\n",
      "Requirement already satisfied: packaging>=20.9 in /Users/e5028514/venvs/llm_course/lib/python3.12/site-packages (from huggingface_hub) (25.0)\n",
      "Requirement already satisfied: pyyaml>=5.1 in /Users/e5028514/venvs/llm_course/lib/python3.12/site-packages (from huggingface_hub) (6.0.2)\n",
      "Requirement already satisfied: requests in /Users/e5028514/venvs/llm_course/lib/python3.12/site-packages (from huggingface_hub) (2.32.3)\n",
      "Requirement already satisfied: tqdm>=4.42.1 in /Users/e5028514/venvs/llm_course/lib/python3.12/site-packages (from huggingface_hub) (4.67.1)\n",
      "Requirement already satisfied: typing-extensions>=3.7.4.3 in /Users/e5028514/venvs/llm_course/lib/python3.12/site-packages (from huggingface_hub) (4.14.0)\n",
      "Requirement already satisfied: hf-xet<2.0.0,>=1.1.3 in /Users/e5028514/venvs/llm_course/lib/python3.12/site-packages (from huggingface_hub) (1.1.10)\n",
      "Requirement already satisfied: pycparser in /Users/e5028514/venvs/llm_course/lib/python3.12/site-packages (from cffi>=1.0->soundfile) (2.22)\n",
      "Requirement already satisfied: charset-normalizer<4,>=2 in /Users/e5028514/venvs/llm_course/lib/python3.12/site-packages (from requests->huggingface_hub) (3.4.2)\n",
      "Requirement already satisfied: idna<4,>=2.5 in /Users/e5028514/venvs/llm_course/lib/python3.12/site-packages (from requests->huggingface_hub) (3.10)\n",
      "Requirement already satisfied: urllib3<3,>=1.21.1 in /Users/e5028514/venvs/llm_course/lib/python3.12/site-packages (from requests->huggingface_hub) (2.4.0)\n",
      "Requirement already satisfied: certifi>=2017.4.17 in /Users/e5028514/venvs/llm_course/lib/python3.12/site-packages (from requests->huggingface_hub) (2025.4.26)\n"
     ]
    }
   ],
   "source": [
    "!pip install soundfile huggingface_hub"
   ]
  },
  {
   "cell_type": "code",
   "execution_count": null,
   "id": "65b88256",
   "metadata": {},
   "outputs": [
    {
     "name": "stderr",
     "output_type": "stream",
     "text": [
      "/Users/e5028514/venvs/llm_course/lib/python3.12/site-packages/gradio/processing_utils.py:777: UserWarning: Trying to convert audio automatically from float64 to 16-bit int format.\n",
      "  warnings.warn(warning.format(data.dtype))\n"
     ]
    },
    {
     "name": "stdout",
     "output_type": "stream",
     "text": [
      "* Running on local URL:  http://127.0.0.1:7862\n",
      "* To create a public link, set `share=True` in `launch()`.\n"
     ]
    },
    {
     "data": {
      "text/html": [
       "<div><iframe src=\"http://127.0.0.1:7862/\" width=\"100%\" height=\"500\" allow=\"autoplay; camera; microphone; clipboard-read; clipboard-write;\" frameborder=\"0\" allowfullscreen></iframe></div>"
      ],
      "text/plain": [
       "<IPython.core.display.HTML object>"
      ]
     },
     "metadata": {},
     "output_type": "display_data"
    },
    {
     "data": {
      "text/plain": []
     },
     "execution_count": 54,
     "metadata": {},
     "output_type": "execute_result"
    }
   ],
   "source": [
    "import soundfile as sf\n",
    "from huggingface_hub import hf_hub_download\n",
    "\n",
    "def load_audio(example):\n",
    "    \"\"\" Load audio files using paths in the dataset\"\"\"\n",
    "    file_path=example[\"path\"]\n",
    "    audio_path=hf_hub_download(\n",
    "        repo_id=\"MahiA/RAVDESS\",\n",
    "        filename=file_path,\n",
    "        repo_type=\"dataset\"\n",
    "    )\n",
    "    audio_data, samplerate=sf.read(audio_path)\n",
    "    return samplerate, audio_data\n",
    "\n",
    "def generate_audio():\n",
    "    example=ds[\"train\"][0]\n",
    "    samplerate, audio_data=load_audio(example)\n",
    "    return example[\"classname\"], (samplerate, audio_data)\n",
    "\n",
    "with gr.Blocks() as demo:\n",
    "    with gr.Column():\n",
    "        for _ in range(4):\n",
    "            audio=generate_audio()\n",
    "            output=gr.Audio(audio, label=\"Audio Player\")\n",
    "demo.launch()\n",
    "\n"
   ]
  },
  {
   "cell_type": "code",
   "execution_count": null,
   "id": "2ce1d7ae",
   "metadata": {},
   "outputs": [
    {
     "name": "stdout",
     "output_type": "stream",
     "text": [
      "* Running on local URL:  http://127.0.0.1:7861\n",
      "* To create a public link, set `share=True` in `launch()`.\n"
     ]
    },
    {
     "data": {
      "text/html": [
       "<div><iframe src=\"http://127.0.0.1:7861/\" width=\"100%\" height=\"500\" allow=\"autoplay; camera; microphone; clipboard-read; clipboard-write;\" frameborder=\"0\" allowfullscreen></iframe></div>"
      ],
      "text/plain": [
       "<IPython.core.display.HTML object>"
      ]
     },
     "metadata": {},
     "output_type": "display_data"
    },
    {
     "data": {
      "text/plain": []
     },
     "execution_count": 53,
     "metadata": {},
     "output_type": "execute_result"
    },
    {
     "name": "stderr",
     "output_type": "stream",
     "text": [
      "/Users/e5028514/venvs/llm_course/lib/python3.12/site-packages/gradio/processing_utils.py:777: UserWarning: Trying to convert audio automatically from float64 to 16-bit int format.\n",
      "  warnings.warn(warning.format(data.dtype))\n",
      "/Users/e5028514/venvs/llm_course/lib/python3.12/site-packages/gradio/processing_utils.py:777: UserWarning: Trying to convert audio automatically from float64 to 16-bit int format.\n",
      "  warnings.warn(warning.format(data.dtype))\n"
     ]
    }
   ],
   "source": [
    "import gradio as gr\n",
    "from datasets import load_dataset\n",
    "import soundfile as sf\n",
    "from huggingface_hub import hf_hub_download\n",
    "\n",
    "# Load the dataset\n",
    "dt = load_dataset(\"MahiA/RAVDESS\")\n",
    "\n",
    "def load_audio_from_path(example):\n",
    "    \"\"\"Load audio from file path\"\"\"\n",
    "    file_path = example[\"path\"]\n",
    "    \n",
    "    # Download and load the audio file\n",
    "    audio_path = hf_hub_download(\n",
    "        repo_id=\"MahiA/RAVDESS\",\n",
    "        filename=file_path,\n",
    "        repo_type=\"dataset\"\n",
    "    )\n",
    "    \n",
    "    # Read the audio file\n",
    "    data, samplerate = sf.read(audio_path)\n",
    "    return samplerate, data\n",
    "\n",
    "def generate_audio():\n",
    "    example = dt[\"train\"].shuffle()[0]\n",
    "    samplerate, audio_array = load_audio_from_path(example)\n",
    "    emotion = example.get(\"classname\", \"Unknown\")\n",
    "    return f\"Emotion: {emotion}\", (samplerate, audio_array)\n",
    "\n",
    "with gr.Blocks() as demo:\n",
    "    with gr.Column():\n",
    "        gr.Markdown(\"# 🎵 RAVDESS Audio Samples\")\n",
    "        \n",
    "        # Create 4 separate audio players with their own generate buttons\n",
    "        for i in range(4):\n",
    "            with gr.Row():\n",
    "                with gr.Column(scale=1):\n",
    "                    gen_btn = gr.Button(f\"Generate Sample {i+1}\", variant=\"secondary\")\n",
    "                with gr.Column(scale=2):\n",
    "                    info_text = gr.Textbox(label=\"Info\", interactive=False)\n",
    "                with gr.Column(scale=3):\n",
    "                    audio_output = gr.Audio(label=f\"Sample {i+1}\", interactive=False)\n",
    "            \n",
    "            # Connect each button to its corresponding outputs\n",
    "            gen_btn.click(\n",
    "                fn=generate_audio,\n",
    "                outputs=[info_text, audio_output]\n",
    "            )\n",
    "\n",
    "demo.launch()"
   ]
  },
  {
   "cell_type": "code",
   "execution_count": 47,
   "id": "4d7e1d96",
   "metadata": {},
   "outputs": [
    {
     "ename": "KeyError",
     "evalue": "'audio'",
     "output_type": "error",
     "traceback": [
      "\u001b[31m---------------------------------------------------------------------------\u001b[39m",
      "\u001b[31mKeyError\u001b[39m                                  Traceback (most recent call last)",
      "\u001b[36mCell\u001b[39m\u001b[36m \u001b[39m\u001b[32mIn[47]\u001b[39m\u001b[32m, line 11\u001b[39m\n\u001b[32m      9\u001b[39m     \u001b[38;5;28;01mwith\u001b[39;00m gr.Column():\n\u001b[32m     10\u001b[39m         \u001b[38;5;28;01mfor\u001b[39;00m _ \u001b[38;5;129;01min\u001b[39;00m \u001b[38;5;28mrange\u001b[39m(\u001b[32m4\u001b[39m):\n\u001b[32m---> \u001b[39m\u001b[32m11\u001b[39m             audio=\u001b[43mgenerate_audio\u001b[49m\u001b[43m(\u001b[49m\u001b[43m)\u001b[49m\n\u001b[32m     12\u001b[39m             output=gr.Audio(value=audio, label=\u001b[33m\"\u001b[39m\u001b[33mGenerated Audio\u001b[39m\u001b[33m\"\u001b[39m)\n\u001b[32m     13\u001b[39m demo.launch()\n",
      "\u001b[36mCell\u001b[39m\u001b[36m \u001b[39m\u001b[32mIn[47]\u001b[39m\u001b[32m, line 5\u001b[39m, in \u001b[36mgenerate_audio\u001b[39m\u001b[34m()\u001b[39m\n\u001b[32m      3\u001b[39m \u001b[38;5;28;01mdef\u001b[39;00m\u001b[38;5;250m \u001b[39m\u001b[34mgenerate_audio\u001b[39m():\n\u001b[32m      4\u001b[39m     example=ds[\u001b[33m\"\u001b[39m\u001b[33mtrain\u001b[39m\u001b[33m\"\u001b[39m].shuffle()[\u001b[32m0\u001b[39m]\n\u001b[32m----> \u001b[39m\u001b[32m5\u001b[39m     audio=\u001b[43mexample\u001b[49m\u001b[43m[\u001b[49m\u001b[33;43m\"\u001b[39;49m\u001b[33;43maudio\u001b[39;49m\u001b[33;43m\"\u001b[39;49m\u001b[43m]\u001b[49m\n\u001b[32m      6\u001b[39m     \u001b[38;5;28;01mreturn\u001b[39;00m (audio_data[\u001b[33m\"\u001b[39m\u001b[33msampling_rate\u001b[39m\u001b[33m\"\u001b[39m], audio[\u001b[33m\"\u001b[39m\u001b[33marray\u001b[39m\u001b[33m\"\u001b[39m])\n",
      "\u001b[31mKeyError\u001b[39m: 'audio'"
     ]
    }
   ],
   "source": [
    "import gradio as gr\n",
    "\n",
    "def generate_audio():\n",
    "    example=ds[\"train\"].shuffle()[0]\n",
    "    audio=example[\"audio\"]\n",
    "    return (audio_data[\"sampling_rate\"], audio[\"array\"])\n",
    "\n",
    "with gr.Blocks() as demo:\n",
    "    with gr.Column():\n",
    "        for _ in range(4):\n",
    "            audio=generate_audio()\n",
    "            output=gr.Audio(value=audio, label=\"Generated Audio\")\n",
    "demo.launch()\n"
   ]
  },
  {
   "cell_type": "code",
   "execution_count": 9,
   "id": "107b2034",
   "metadata": {},
   "outputs": [
    {
     "data": {
      "text/plain": [
       "{'path': Value('string'), 'classname': Value('string')}"
      ]
     },
     "execution_count": 9,
     "metadata": {},
     "output_type": "execute_result"
    }
   ],
   "source": [
    "ds[\"train\"].features"
   ]
  },
  {
   "cell_type": "code",
   "execution_count": 20,
   "id": "7b4bbcc6",
   "metadata": {},
   "outputs": [
    {
     "data": {
      "text/plain": [
       "{'path': 'audios/03-02-06-02-02-01-03.wav', 'classname': 'fearful'}"
      ]
     },
     "execution_count": 20,
     "metadata": {},
     "output_type": "execute_result"
    }
   ],
   "source": [
    "audio_track=ds[\"train\"][0]\n",
    "audio_track\n"
   ]
  },
  {
   "cell_type": "code",
   "execution_count": null,
   "id": "5b99b200",
   "metadata": {},
   "outputs": [],
   "source": []
  }
 ],
 "metadata": {
  "jupytext": {
   "cell_metadata_filter": "-all",
   "main_language": "python",
   "notebook_metadata_filter": "-all"
  },
  "kernelspec": {
   "display_name": "LLM Course",
   "language": "python",
   "name": "llm_course"
  },
  "language_info": {
   "codemirror_mode": {
    "name": "ipython",
    "version": 3
   },
   "file_extension": ".py",
   "mimetype": "text/x-python",
   "name": "python",
   "nbconvert_exporter": "python",
   "pygments_lexer": "ipython3",
   "version": "3.12.11"
  }
 },
 "nbformat": 4,
 "nbformat_minor": 5
}
