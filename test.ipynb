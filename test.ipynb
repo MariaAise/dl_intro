{
 "cells": [
  {
   "cell_type": "markdown",
   "id": "99e75660",
   "metadata": {},
   "source": [
    "### This is a document\n",
    "\n",
    "come and **enjoy**"
   ]
  },
  {
   "cell_type": "code",
   "execution_count": 4,
   "id": "11d51148",
   "metadata": {},
   "outputs": [],
   "source": [
    "import requests\n",
    "import json\n",
    "from datetime import datetime, timedelta \n",
    "import time\n"
   ]
  },
  {
   "cell_type": "code",
   "execution_count": null,
   "id": "cdc274a8",
   "metadata": {},
   "outputs": [],
   "source": [
    "def get_hn_stories_by_keyword(keyword, months=2):\n",
    "    \"\"\"\n",
    "    Retrieve Hacker News stories containing a keyword from the last N months\n",
    "\n",
    "    Args:\n",
    "        keyword (str): The keyword to search for\n",
    "        months (int): Number of months to look back (default: 2)\n",
    "\n",
    "    Returns:\n",
    "        list: List of stories matching the criteria\n",
    "    \"\"\"\n",
    "\n",
    "    # Calculate timestamp for N months ago\n",
    "    two_months_ago = datetime.now() - timedelta(days=30 * months)\n",
    "    timestamp = int(two_months_ago.timestamp())\n",
    "\n",
    "    # Search Hacker News API\n",
    "    search_url = \"https://hn.algolia.com/api/v1/search_by_date\"\n",
    "\n",
    "    params = {\n",
    "        'query': keyword,\n",
    "        'tags': 'story',\n",
    "        'numericFilters': f'created_at_i>{timestamp}',\n",
    "        'hitsPerPage': 1000  # Maximum allowed\n",
    "    }\n",
    "\n",
    "    try:\n",
    "        response = requests.get(search_url, params=params)\n",
    "        response.raise_for_status()\n",
    "\n",
    "        data = response.json()\n",
    "        stories = data.get('hits', [])\n",
    "\n",
    "        # Filter stories to ensure they contain the keyword in title or content\n",
    "        filtered_stories = []\n",
    "        for story in stories:\n",
    "            title = story.get('title', '').lower()\n",
    "            story_text = story.get('story_text', '').lower()\n",
    "            keyword_lower = keyword.lower()\n",
    "\n",
    "            if keyword_lower in title or keyword_lower in story_text:\n",
    "                filtered_stories.append({\n",
    "                    'title': story.get('title', 'No title'),\n",
    "                    'url': story.get('url', f\"https://news.ycombinator.com/item?id={story['objectID']}\"),\n",
    "                    'points': story.get('points', 0),\n",
    "                    'comments': story.get('num_comments', 0),\n",
    "                    'author': story.get('author', 'Unknown'),\n",
    "                    'created_at': story.get('created_at', ''),\n",
    "                    'hn_url': f\"https://news.ycombinator.com/item?id={story['objectID']}\"\n",
    "                })\n",
    "\n",
    "        return filtered_stories\n",
    "\n",
    "    except requests.exceptions.RequestException as e:\n",
    "        print(f\"Error fetching data: {e}\")\n",
    "        return []\n",
    "\n",
    "def display_stories(stories):\n",
    "    if not stories:\n",
    "        print(\"No stories found matching the criteria.\")\n",
    "        return\n",
    "    print(f\"Found {len(stories)} stories matching the criteria:\\n\")\n",
    "    print(\"-\" * 80)\n",
    "\n",
    "    for story in stories:\n",
    "        print(f\"Title: {story.get('title', 'No title')}\")\n",
    "        print(f\"URL: {story.get('url', '')}\")\n",
    "        print(f\"Author: {story.get('author', 'Unknown')}\")\n",
    "        print(f\"Points: {story.get('points', 0)}, Comments: {story.get('num_comments', 0)}\")\n",
    "        print(f\"Created At: {story.get('created_at', '')}\")\n",
    "        print(\"-\" * 80)"
   ]
  },
  {
   "cell_type": "code",
   "execution_count": 18,
   "id": "678870e6",
   "metadata": {},
   "outputs": [
    {
     "name": "stdout",
     "output_type": "stream",
     "text": [
      "Found 27 stories matching the criteria:\n",
      "\n",
      "--------------------------------------------------------------------------------\n",
      "Title: Show HN: Digital Wardrobe – Track your daily outfit cost\n",
      "URL: https://news.ycombinator.com/item?id=45003289\n",
      "Author: Jasperio\n"
     ]
    },
    {
     "ename": "KeyError",
     "evalue": "'num_comments'",
     "output_type": "error",
     "traceback": [
      "\u001b[31m---------------------------------------------------------------------------\u001b[39m",
      "\u001b[31mKeyError\u001b[39m                                  Traceback (most recent call last)",
      "\u001b[36mCell\u001b[39m\u001b[36m \u001b[39m\u001b[32mIn[18]\u001b[39m\u001b[32m, line 2\u001b[39m\n\u001b[32m      1\u001b[39m data=get_hn_stories_by_keyword(\u001b[33m\"\u001b[39m\u001b[33mfashion\u001b[39m\u001b[33m\"\u001b[39m, months=\u001b[32m2\u001b[39m)\n\u001b[32m----> \u001b[39m\u001b[32m2\u001b[39m \u001b[43mdisplay_stories\u001b[49m\u001b[43m(\u001b[49m\u001b[43mdata\u001b[49m\u001b[43m)\u001b[49m\n",
      "\u001b[36mCell\u001b[39m\u001b[36m \u001b[39m\u001b[32mIn[15]\u001b[39m\u001b[32m, line 69\u001b[39m, in \u001b[36mdisplay_stories\u001b[39m\u001b[34m(stories)\u001b[39m\n\u001b[32m     67\u001b[39m \u001b[38;5;28mprint\u001b[39m(\u001b[33mf\u001b[39m\u001b[33m\"\u001b[39m\u001b[33mURL: \u001b[39m\u001b[38;5;132;01m{\u001b[39;00mstory[\u001b[33m'\u001b[39m\u001b[33murl\u001b[39m\u001b[33m'\u001b[39m]\u001b[38;5;132;01m}\u001b[39;00m\u001b[33m\"\u001b[39m)\n\u001b[32m     68\u001b[39m \u001b[38;5;28mprint\u001b[39m(\u001b[33mf\u001b[39m\u001b[33m\"\u001b[39m\u001b[33mAuthor: \u001b[39m\u001b[38;5;132;01m{\u001b[39;00mstory[\u001b[33m'\u001b[39m\u001b[33mauthor\u001b[39m\u001b[33m'\u001b[39m]\u001b[38;5;132;01m}\u001b[39;00m\u001b[33m\"\u001b[39m)\n\u001b[32m---> \u001b[39m\u001b[32m69\u001b[39m \u001b[38;5;28mprint\u001b[39m(\u001b[33mf\u001b[39m\u001b[33m\"\u001b[39m\u001b[33mPoints: \u001b[39m\u001b[38;5;132;01m{\u001b[39;00mstory[\u001b[33m'\u001b[39m\u001b[33mpoints\u001b[39m\u001b[33m'\u001b[39m]\u001b[38;5;132;01m}\u001b[39;00m\u001b[33m, Comments: \u001b[39m\u001b[38;5;132;01m{\u001b[39;00m\u001b[43mstory\u001b[49m\u001b[43m[\u001b[49m\u001b[33;43m'\u001b[39;49m\u001b[33;43mnum_comments\u001b[39;49m\u001b[33;43m'\u001b[39;49m\u001b[43m]\u001b[49m\u001b[38;5;132;01m}\u001b[39;00m\u001b[33m\"\u001b[39m)\n\u001b[32m     70\u001b[39m \u001b[38;5;28mprint\u001b[39m(\u001b[33mf\u001b[39m\u001b[33m\"\u001b[39m\u001b[33mCreated At: \u001b[39m\u001b[38;5;132;01m{\u001b[39;00mstory[\u001b[33m'\u001b[39m\u001b[33mcreated_at\u001b[39m\u001b[33m'\u001b[39m]\u001b[38;5;132;01m}\u001b[39;00m\u001b[33m\"\u001b[39m)\n\u001b[32m     71\u001b[39m \u001b[38;5;28mprint\u001b[39m(\u001b[33m\"\u001b[39m\u001b[33m-\u001b[39m\u001b[33m\"\u001b[39m * \u001b[32m80\u001b[39m)\n",
      "\u001b[31mKeyError\u001b[39m: 'num_comments'"
     ]
    }
   ],
   "source": [
    "data=get_hn_stories_by_keyword(\"fashion\", months=2)\n",
    "display_stories(data)"
   ]
  },
  {
   "cell_type": "code",
   "execution_count": 11,
   "id": "aa7482d7",
   "metadata": {},
   "outputs": [
    {
     "name": "stdout",
     "output_type": "stream",
     "text": [
      "1751343385.607998\n"
     ]
    }
   ],
   "source": [
    "time_span=get_hh_stories(\"python\")\n",
    "print(time_span.timestamp())\n"
   ]
  },
  {
   "cell_type": "code",
   "execution_count": null,
   "id": "8f4110e9",
   "metadata": {},
   "outputs": [],
   "source": []
  }
 ],
 "metadata": {
  "jupytext": {
   "cell_metadata_filter": "-all",
   "main_language": "python",
   "notebook_metadata_filter": "-all"
  },
  "kernelspec": {
   "display_name": ".venv",
   "language": "python",
   "name": "python3"
  },
  "language_info": {
   "codemirror_mode": {
    "name": "ipython",
    "version": 3
   },
   "file_extension": ".py",
   "mimetype": "text/x-python",
   "name": "python",
   "nbconvert_exporter": "python",
   "pygments_lexer": "ipython3",
   "version": "3.13.4"
  }
 },
 "nbformat": 4,
 "nbformat_minor": 5
}
